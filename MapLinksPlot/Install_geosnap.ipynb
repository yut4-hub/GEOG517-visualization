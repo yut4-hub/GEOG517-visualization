{
 "cells": [
  {
   "cell_type": "markdown",
   "metadata": {},
   "source": [
    "## How to install geosnap\n",
    "\n",
    "Command lines below are to install the geosnap package and additional packages that you need to run geosnap.\n",
    "This installation instruction is for CyberGISX.\n",
    "For jupyter notebook users see the website below for installation instructions\n",
    "Learn more about geosnap at https://github.com/spatialucr/geosnap"
   ]
  },
  {
   "cell_type": "code",
   "execution_count": 1,
   "metadata": {},
   "outputs": [
    {
     "name": "stdout",
     "output_type": "stream",
     "text": [
      "Collecting geosnap==0.5.0\n",
      "  Downloading geosnap-0.5.0-py3-none-any.whl (907 kB)\n",
      "\u001b[K     |████████████████████████████████| 907 kB 10.0 MB/s eta 0:00:01\n",
      "\u001b[?25hRequirement already satisfied: matplotlib in /opt/conda/lib/python3.7/site-packages (from geosnap==0.5.0) (3.1.3)\n",
      "Requirement already satisfied: cenpy in /opt/conda/lib/python3.7/site-packages (from geosnap==0.5.0) (1.0.0.post2)\n",
      "Requirement already satisfied: geopandas in /opt/conda/lib/python3.7/site-packages (from geosnap==0.5.0) (0.7.0)\n",
      "Requirement already satisfied: pandas in /opt/conda/lib/python3.7/site-packages (from geosnap==0.5.0) (1.0.3)\n",
      "Collecting giddy>=2.2.1\n",
      "  Downloading giddy-2.3.3-py3-none-any.whl (60 kB)\n",
      "\u001b[K     |████████████████████████████████| 60 kB 11.4 MB/s eta 0:00:01\n",
      "\u001b[?25hRequirement already satisfied: palettable in /opt/conda/lib/python3.7/site-packages (from geosnap==0.5.0) (3.3.0)\n",
      "Requirement already satisfied: seaborn in /opt/conda/lib/python3.7/site-packages (from geosnap==0.5.0) (0.10.0)\n",
      "Collecting region>=0.2.1\n",
      "  Downloading region-0.2.1-py3-none-any.whl (52 kB)\n",
      "\u001b[K     |████████████████████████████████| 52 kB 2.0 MB/s  eta 0:00:01\n",
      "\u001b[?25hCollecting tobler>=0.2.1\n",
      "  Downloading tobler-0.7.0-py3-none-any.whl (26 kB)\n",
      "Collecting spenc\n",
      "  Downloading spenc-0.2.tar.gz (9.6 kB)\n",
      "Requirement already satisfied: mapclassify in /opt/conda/lib/python3.7/site-packages (from geosnap==0.5.0) (2.2.0)\n",
      "Requirement already satisfied: scikit-learn in /opt/conda/lib/python3.7/site-packages (from geosnap==0.5.0) (0.22.2.post1)\n",
      "Requirement already satisfied: xlrd in /opt/conda/lib/python3.7/site-packages (from geosnap==0.5.0) (1.2.0)\n",
      "Collecting dash\n",
      "  Downloading dash-1.20.0.tar.gz (77 kB)\n",
      "\u001b[K     |████████████████████████████████| 77 kB 9.6 MB/s  eta 0:00:01\n",
      "\u001b[?25hRequirement already satisfied: pyarrow>=0.14.1 in /opt/conda/lib/python3.7/site-packages (from geosnap==0.5.0) (0.16.0)\n",
      "Requirement already satisfied: numpy in /opt/conda/lib/python3.7/site-packages (from geosnap==0.5.0) (1.18.1)\n",
      "Collecting appdirs\n",
      "  Downloading appdirs-1.4.4-py2.py3-none-any.whl (9.6 kB)\n",
      "Requirement already satisfied: libpysal in /opt/conda/lib/python3.7/site-packages (from geosnap==0.5.0) (4.2.2)\n",
      "Collecting dash-bootstrap-components\n",
      "  Downloading dash_bootstrap_components-0.12.2-py3-none-any.whl (191 kB)\n",
      "\u001b[K     |████████████████████████████████| 191 kB 21.8 MB/s eta 0:00:01\n",
      "\u001b[?25hCollecting quilt3>=3.1.11\n",
      "  Downloading quilt3-3.4.0-py3-none-any.whl (111 kB)\n",
      "\u001b[K     |████████████████████████████████| 111 kB 13.7 MB/s eta 0:00:01\n",
      "\u001b[?25hRequirement already satisfied: tqdm in /opt/conda/lib/python3.7/site-packages (from geosnap==0.5.0) (4.45.0)\n",
      "Requirement already satisfied: pyparsing!=2.0.4,!=2.1.2,!=2.1.6,>=2.0.1 in /opt/conda/lib/python3.7/site-packages (from matplotlib->geosnap==0.5.0) (2.4.6)\n",
      "Requirement already satisfied: cycler>=0.10 in /opt/conda/lib/python3.7/site-packages (from matplotlib->geosnap==0.5.0) (0.10.0)\n",
      "Requirement already satisfied: kiwisolver>=1.0.1 in /opt/conda/lib/python3.7/site-packages (from matplotlib->geosnap==0.5.0) (1.1.0)\n",
      "Requirement already satisfied: python-dateutil>=2.1 in /opt/conda/lib/python3.7/site-packages (from matplotlib->geosnap==0.5.0) (2.8.1)\n",
      "Requirement already satisfied: requests in /opt/conda/lib/python3.7/site-packages (from cenpy->geosnap==0.5.0) (2.23.0)\n",
      "Requirement already satisfied: six in /opt/conda/lib/python3.7/site-packages (from cenpy->geosnap==0.5.0) (1.14.0)\n",
      "Requirement already satisfied: fuzzywuzzy in /opt/conda/lib/python3.7/site-packages (from cenpy->geosnap==0.5.0) (0.17.0)\n",
      "Requirement already satisfied: rtree in /opt/conda/lib/python3.7/site-packages (from cenpy->geosnap==0.5.0) (0.9.4)\n",
      "Requirement already satisfied: shapely in /opt/conda/lib/python3.7/site-packages (from geopandas->geosnap==0.5.0) (1.7.0)\n",
      "Requirement already satisfied: pyproj>=2.2.0 in /opt/conda/lib/python3.7/site-packages (from geopandas->geosnap==0.5.0) (2.6.0)\n",
      "Requirement already satisfied: fiona in /opt/conda/lib/python3.7/site-packages (from geopandas->geosnap==0.5.0) (1.8.13)\n",
      "Requirement already satisfied: pytz>=2017.2 in /opt/conda/lib/python3.7/site-packages (from pandas->geosnap==0.5.0) (2019.3)\n",
      "Collecting quantecon>=0.4.7\n",
      "  Downloading quantecon-0.5.0-py3-none-any.whl (229 kB)\n",
      "\u001b[K     |████████████████████████████████| 229 kB 19.0 MB/s eta 0:00:01\n",
      "\u001b[?25hCollecting esda>=2.1.1\n",
      "  Downloading esda-2.3.6-py3-none-any.whl (102 kB)\n",
      "\u001b[K     |████████████████████████████████| 102 kB 30.9 MB/s eta 0:00:01\n",
      "\u001b[?25hRequirement already satisfied: scipy>=1.3.0 in /opt/conda/lib/python3.7/site-packages (from giddy>=2.2.1->geosnap==0.5.0) (1.4.1)\n",
      "Requirement already satisfied: networkx>=2.0.0 in /opt/conda/lib/python3.7/site-packages (from region>=0.2.1->geosnap==0.5.0) (2.4)\n",
      "Requirement already satisfied: pulp in /opt/conda/lib/python3.7/site-packages (from region>=0.2.1->geosnap==0.5.0) (2.1)\n",
      "Collecting pytest\n",
      "  Downloading pytest-6.2.4-py3-none-any.whl (280 kB)\n",
      "\u001b[K     |████████████████████████████████| 280 kB 19.2 MB/s eta 0:00:01\n",
      "\u001b[?25hRequirement already satisfied: sklearn in /opt/conda/lib/python3.7/site-packages (from region>=0.2.1->geosnap==0.5.0) (0.0)\n",
      "Collecting pygeos\n",
      "  Downloading pygeos-0.9-cp37-cp37m-manylinux1_x86_64.whl (2.1 MB)\n",
      "\u001b[K     |████████████████████████████████| 2.1 MB 21.1 MB/s eta 0:00:01██████████████      | 1.7 MB 21.1 MB/s eta 0:00:01\n",
      "\u001b[?25hRequirement already satisfied: rasterio in /opt/conda/lib/python3.7/site-packages (from tobler>=0.2.1->geosnap==0.5.0) (1.1.3)\n",
      "Requirement already satisfied: statsmodels in /opt/conda/lib/python3.7/site-packages (from tobler>=0.2.1->geosnap==0.5.0) (0.11.1)\n",
      "Requirement already satisfied: joblib in /opt/conda/lib/python3.7/site-packages (from tobler>=0.2.1->geosnap==0.5.0) (0.14.1)\n",
      "Collecting rasterstats\n",
      "  Downloading rasterstats-0.15.0-py3-none-any.whl (16 kB)\n",
      "Requirement already satisfied: deprecated in /opt/conda/lib/python3.7/site-packages (from mapclassify->geosnap==0.5.0) (1.2.8)\n",
      "Collecting Flask>=1.0.4\n",
      "  Downloading Flask-1.1.2-py2.py3-none-any.whl (94 kB)\n",
      "\u001b[K     |████████████████████████████████| 94 kB 3.5 MB/s  eta 0:00:01\n",
      "\u001b[?25hCollecting flask-compress\n",
      "  Downloading Flask_Compress-1.9.0-py3-none-any.whl (7.3 kB)\n",
      "Requirement already satisfied: plotly in /opt/conda/lib/python3.7/site-packages (from dash->geosnap==0.5.0) (4.6.0)\n",
      "Collecting dash_renderer==1.9.1\n",
      "  Downloading dash_renderer-1.9.1.tar.gz (1.0 MB)\n",
      "\u001b[K     |████████████████████████████████| 1.0 MB 18.1 MB/s eta 0:00:01\n",
      "\u001b[?25hCollecting dash-core-components==1.16.0\n",
      "  Downloading dash_core_components-1.16.0.tar.gz (3.5 MB)\n",
      "\u001b[K     |████████████████████████████████| 3.5 MB 19.8 MB/s eta 0:00:010:01\n",
      "\u001b[?25hCollecting dash-html-components==1.1.3\n",
      "  Downloading dash_html_components-1.1.3.tar.gz (82 kB)\n",
      "\u001b[K     |████████████████████████████████| 82 kB 771 kB/s  eta 0:00:01\n",
      "\u001b[?25hCollecting dash-table==4.11.3\n",
      "  Downloading dash_table-4.11.3.tar.gz (1.8 MB)\n",
      "\u001b[K     |████████████████████████████████| 1.8 MB 16.2 MB/s eta 0:00:01��█▊                           | 266 kB 16.2 MB/s eta 0:00:01\n",
      "\u001b[?25hRequirement already satisfied: future in /opt/conda/lib/python3.7/site-packages (from dash->geosnap==0.5.0) (0.18.2)\n",
      "Requirement already satisfied: jinja2 in /opt/conda/lib/python3.7/site-packages (from libpysal->geosnap==0.5.0) (2.11.1)\n",
      "Collecting bs4\n",
      "  Downloading bs4-0.0.1.tar.gz (1.1 kB)\n",
      "Collecting requests-futures==1.0.0\n",
      "  Downloading requests-futures-1.0.0.tar.gz (10 kB)\n",
      "Requirement already satisfied: PyYAML>=5.1 in /opt/conda/lib/python3.7/site-packages (from quilt3>=3.1.11->geosnap==0.5.0) (5.3)\n",
      "Collecting dnspython>=1.16.0\n",
      "  Downloading dnspython-2.1.0-py3-none-any.whl (241 kB)\n",
      "\u001b[K     |████████████████████████████████| 241 kB 38.4 MB/s eta 0:00:01\n",
      "\u001b[?25hCollecting tenacity>=5.1.1\n",
      "  Downloading tenacity-7.0.0-py2.py3-none-any.whl (23 kB)\n",
      "Requirement already satisfied: jsonschema==3.* in /opt/conda/lib/python3.7/site-packages (from quilt3>=3.1.11->geosnap==0.5.0) (3.2.0)\n",
      "Collecting aws-requests-auth>=0.4.2\n",
      "  Downloading aws_requests_auth-0.4.3-py2.py3-none-any.whl (6.8 kB)\n",
      "Collecting flask-json\n",
      "  Downloading Flask_JSON-0.3.4-py3-none-any.whl (9.0 kB)\n",
      "Collecting jsonlines==1.2.0\n",
      "  Downloading jsonlines-1.2.0-py2.py3-none-any.whl (7.6 kB)\n",
      "Collecting flask-cors\n",
      "  Downloading Flask_Cors-3.0.10-py2.py3-none-any.whl (14 kB)\n"
     ]
    },
    {
     "name": "stdout",
     "output_type": "stream",
     "text": [
      "Requirement already satisfied: boto3>=1.10.0 in /opt/conda/lib/python3.7/site-packages (from quilt3>=3.1.11->geosnap==0.5.0) (1.12.38)\n",
      "Requirement already satisfied: setuptools in /opt/conda/lib/python3.7/site-packages (from kiwisolver>=1.0.1->matplotlib->geosnap==0.5.0) (45.2.0.post20200209)\n",
      "Requirement already satisfied: certifi>=2017.4.17 in /opt/conda/lib/python3.7/site-packages (from requests->cenpy->geosnap==0.5.0) (2020.6.20)\n",
      "Requirement already satisfied: idna<3,>=2.5 in /opt/conda/lib/python3.7/site-packages (from requests->cenpy->geosnap==0.5.0) (2.9)\n",
      "Requirement already satisfied: urllib3!=1.25.0,!=1.25.1,<1.26,>=1.21.1 in /opt/conda/lib/python3.7/site-packages (from requests->cenpy->geosnap==0.5.0) (1.25.7)\n",
      "Requirement already satisfied: chardet<4,>=3.0.2 in /opt/conda/lib/python3.7/site-packages (from requests->cenpy->geosnap==0.5.0) (3.0.4)\n",
      "Requirement already satisfied: attrs>=17 in /opt/conda/lib/python3.7/site-packages (from fiona->geopandas->geosnap==0.5.0) (19.3.0)\n",
      "Requirement already satisfied: click<8,>=4.0 in /opt/conda/lib/python3.7/site-packages (from fiona->geopandas->geosnap==0.5.0) (7.1.1)\n",
      "Requirement already satisfied: cligj>=0.5 in /opt/conda/lib/python3.7/site-packages (from fiona->geopandas->geosnap==0.5.0) (0.5.0)\n",
      "Requirement already satisfied: click-plugins>=1.0 in /opt/conda/lib/python3.7/site-packages (from fiona->geopandas->geosnap==0.5.0) (1.1.1)\n",
      "Requirement already satisfied: munch in /opt/conda/lib/python3.7/site-packages (from fiona->geopandas->geosnap==0.5.0) (2.5.0)\n",
      "Requirement already satisfied: numba>=0.38 in /opt/conda/lib/python3.7/site-packages (from quantecon>=0.4.7->giddy>=2.2.1->geosnap==0.5.0) (0.48.0)\n",
      "Requirement already satisfied: sympy in /opt/conda/lib/python3.7/site-packages (from quantecon>=0.4.7->giddy>=2.2.1->geosnap==0.5.0) (1.5.1)\n",
      "Requirement already satisfied: decorator>=4.3.0 in /opt/conda/lib/python3.7/site-packages (from networkx>=2.0.0->region>=0.2.1->geosnap==0.5.0) (4.4.2)\n",
      "Collecting py>=1.8.2\n",
      "  Downloading py-1.10.0-py2.py3-none-any.whl (97 kB)\n",
      "\u001b[K     |████████████████████████████████| 97 kB 7.5 MB/s  eta 0:00:01\n",
      "\u001b[?25hCollecting pluggy<1.0.0a1,>=0.12\n",
      "  Downloading pluggy-0.13.1-py2.py3-none-any.whl (18 kB)\n",
      "Requirement already satisfied: packaging in /opt/conda/lib/python3.7/site-packages (from pytest->region>=0.2.1->geosnap==0.5.0) (20.1)\n",
      "Requirement already satisfied: importlib-metadata>=0.12; python_version < \"3.8\" in /opt/conda/lib/python3.7/site-packages (from pytest->region>=0.2.1->geosnap==0.5.0) (1.5.0)\n",
      "Collecting toml\n",
      "  Downloading toml-0.10.2-py2.py3-none-any.whl (16 kB)\n",
      "Collecting iniconfig\n",
      "  Downloading iniconfig-1.1.1-py2.py3-none-any.whl (5.0 kB)\n",
      "Requirement already satisfied: affine in /opt/conda/lib/python3.7/site-packages (from rasterio->tobler>=0.2.1->geosnap==0.5.0) (2.3.0)\n",
      "Requirement already satisfied: snuggs>=1.4.1 in /opt/conda/lib/python3.7/site-packages (from rasterio->tobler>=0.2.1->geosnap==0.5.0) (1.4.7)\n",
      "Requirement already satisfied: patsy>=0.5 in /opt/conda/lib/python3.7/site-packages (from statsmodels->tobler>=0.2.1->geosnap==0.5.0) (0.5.1)\n",
      "Requirement already satisfied: simplejson in /opt/conda/lib/python3.7/site-packages (from rasterstats->tobler>=0.2.1->geosnap==0.5.0) (3.17.0)\n",
      "Requirement already satisfied: wrapt<2,>=1.10 in /opt/conda/lib/python3.7/site-packages (from deprecated->mapclassify->geosnap==0.5.0) (1.12.1)\n",
      "Collecting itsdangerous>=0.24\n",
      "  Downloading itsdangerous-1.1.0-py2.py3-none-any.whl (16 kB)\n",
      "Requirement already satisfied: Werkzeug>=0.15 in /opt/conda/lib/python3.7/site-packages (from Flask>=1.0.4->dash->geosnap==0.5.0) (1.0.1)\n",
      "Collecting brotli\n",
      "  Downloading Brotli-1.0.9-cp37-cp37m-manylinux1_x86_64.whl (357 kB)\n",
      "\u001b[K     |████████████████████████████████| 357 kB 24.6 MB/s eta 0:00:01\n",
      "\u001b[?25hRequirement already satisfied: retrying>=1.3.3 in /opt/conda/lib/python3.7/site-packages (from plotly->dash->geosnap==0.5.0) (1.3.3)\n",
      "Requirement already satisfied: MarkupSafe>=0.23 in /opt/conda/lib/python3.7/site-packages (from jinja2->libpysal->geosnap==0.5.0) (1.1.1)\n",
      "Requirement already satisfied: beautifulsoup4 in /opt/conda/lib/python3.7/site-packages (from bs4->libpysal->geosnap==0.5.0) (4.8.2)\n",
      "Requirement already satisfied: pyrsistent>=0.14.0 in /opt/conda/lib/python3.7/site-packages (from jsonschema==3.*->quilt3>=3.1.11->geosnap==0.5.0) (0.15.7)\n",
      "Requirement already satisfied: s3transfer<0.4.0,>=0.3.0 in /opt/conda/lib/python3.7/site-packages (from boto3>=1.10.0->quilt3>=3.1.11->geosnap==0.5.0) (0.3.3)\n",
      "Requirement already satisfied: botocore<1.16.0,>=1.15.38 in /opt/conda/lib/python3.7/site-packages (from boto3>=1.10.0->quilt3>=3.1.11->geosnap==0.5.0) (1.15.38)\n",
      "Requirement already satisfied: jmespath<1.0.0,>=0.7.1 in /opt/conda/lib/python3.7/site-packages (from boto3>=1.10.0->quilt3>=3.1.11->geosnap==0.5.0) (0.9.5)\n",
      "Requirement already satisfied: llvmlite<0.32.0,>=0.31.0dev0 in /opt/conda/lib/python3.7/site-packages (from numba>=0.38->quantecon>=0.4.7->giddy>=2.2.1->geosnap==0.5.0) (0.31.0)\n",
      "Requirement already satisfied: mpmath>=0.19 in /opt/conda/lib/python3.7/site-packages (from sympy->quantecon>=0.4.7->giddy>=2.2.1->geosnap==0.5.0) (1.1.0)\n",
      "Requirement already satisfied: zipp>=0.5 in /opt/conda/lib/python3.7/site-packages (from importlib-metadata>=0.12; python_version < \"3.8\"->pytest->region>=0.2.1->geosnap==0.5.0) (3.1.0)\n",
      "Requirement already satisfied: soupsieve>=1.2 in /opt/conda/lib/python3.7/site-packages (from beautifulsoup4->bs4->libpysal->geosnap==0.5.0) (1.9.4)\n",
      "Requirement already satisfied: docutils<0.16,>=0.10 in /opt/conda/lib/python3.7/site-packages (from botocore<1.16.0,>=1.15.38->boto3>=1.10.0->quilt3>=3.1.11->geosnap==0.5.0) (0.15.2)\n",
      "Building wheels for collected packages: spenc, dash, dash-renderer, dash-core-components, dash-html-components, dash-table, bs4, requests-futures\n",
      "  Building wheel for spenc (setup.py) ... \u001b[?25ldone\n",
      "\u001b[?25h  Created wheel for spenc: filename=spenc-0.2-py3-none-any.whl size=10167 sha256=3eb50c89bf2460eb25a83d0db324f1066ddfe033b3fd254e13fe0be08811505a\n",
      "  Stored in directory: /home/jovyan/.cache/pip/wheels/17/fa/3b/489d799b75741d4da854c6a42f56bcc65b7c48e4889c4abe6f\n",
      "  Building wheel for dash (setup.py) ... \u001b[?25ldone\n",
      "\u001b[?25h  Created wheel for dash: filename=dash-1.20.0-py3-none-any.whl size=85832 sha256=111772dc66d4514d78cf9c625404dd1e9687bae95de5767ebc6fa508c09d9125\n",
      "  Stored in directory: /home/jovyan/.cache/pip/wheels/4f/c3/6a/a7cb9cedfdf93e0f0e8db0817ff2646d319afa9e4ca543ef9c\n",
      "  Building wheel for dash-renderer (setup.py) ... \u001b[?25ldone\n",
      "\u001b[?25h  Created wheel for dash-renderer: filename=dash_renderer-1.9.1-py3-none-any.whl size=1014877 sha256=8aeeb23623c34c0adf6b1439da0e4cbacb55a01fcd3db608d070510c9d81929e\n",
      "  Stored in directory: /home/jovyan/.cache/pip/wheels/1a/2f/c0/783c571f9861e5c716b56638926b03fb80bc58991e5a54947d\n",
      "  Building wheel for dash-core-components (setup.py) ... \u001b[?25ldone\n",
      "\u001b[?25h  Created wheel for dash-core-components: filename=dash_core_components-1.16.0-py3-none-any.whl size=3540991 sha256=a335d165e289ace78eea821ade930946b8a08d1d6ba11fb6b4c82f61d92bd819\n",
      "  Stored in directory: /home/jovyan/.cache/pip/wheels/6a/50/7e/c440176e48ba46baa157b0f10365f6871acd133460b4e0abe4\n",
      "  Building wheel for dash-html-components (setup.py) ... \u001b[?25ldone\n",
      "\u001b[?25h  Created wheel for dash-html-components: filename=dash_html_components-1.1.3-py3-none-any.whl size=319472 sha256=3c87a6e14750b3488c22a0b68249cdaaa70c5ae38b26bdd32c956cc2d004fa00\n",
      "  Stored in directory: /home/jovyan/.cache/pip/wheels/7d/75/be/b836bd1c1f92c4823fef293f82375ca448c1fc627ce50acff0\n",
      "  Building wheel for dash-table (setup.py) ... \u001b[?25ldone\n",
      "\u001b[?25h  Created wheel for dash-table: filename=dash_table-4.11.3-py3-none-any.whl size=1827617 sha256=eb4f5a97e764c5f767d8e8f2e5d6c330266859260c3574d7997895ffdf065758\n",
      "  Stored in directory: /home/jovyan/.cache/pip/wheels/99/5e/cb/e1918e34d079454bad0504e73a9195d9da8cd46605560e6864\n",
      "  Building wheel for bs4 (setup.py) ... \u001b[?25ldone\n",
      "\u001b[?25h  Created wheel for bs4: filename=bs4-0.0.1-py3-none-any.whl size=1272 sha256=27cd44961a9e2e2bd331883a95b39cde44911d718bcf1e7a87dd9ca8422740d5\n",
      "  Stored in directory: /home/jovyan/.cache/pip/wheels/0a/9e/ba/20e5bbc1afef3a491f0b3bb74d508f99403aabe76eda2167ca\n"
     ]
    },
    {
     "name": "stdout",
     "output_type": "stream",
     "text": [
      "  Building wheel for requests-futures (setup.py) ... \u001b[?25ldone\n",
      "\u001b[?25h  Created wheel for requests-futures: filename=requests_futures-1.0.0-py3-none-any.whl size=7013 sha256=18230d594f9a6ede6950e54ba65d4426f970525d3e268f5a7e60012e19b9c63e\n",
      "  Stored in directory: /home/jovyan/.cache/pip/wheels/e6/5d/70/8aa32975ceceb612d545b74897e6e8dcc399d78522458c3004\n",
      "Successfully built spenc dash dash-renderer dash-core-components dash-html-components dash-table bs4 requests-futures\n",
      "Installing collected packages: quantecon, esda, giddy, py, pluggy, toml, iniconfig, pytest, region, pygeos, rasterstats, tobler, spenc, itsdangerous, Flask, brotli, flask-compress, dash-renderer, dash-core-components, dash-html-components, dash-table, dash, appdirs, dash-bootstrap-components, requests-futures, dnspython, tenacity, aws-requests-auth, flask-json, jsonlines, flask-cors, quilt3, geosnap, bs4\n",
      "Successfully installed Flask-1.1.2 appdirs-1.4.4 aws-requests-auth-0.4.3 brotli-1.0.9 bs4-0.0.1 dash-1.20.0 dash-bootstrap-components-0.12.2 dash-core-components-1.16.0 dash-html-components-1.1.3 dash-renderer-1.9.1 dash-table-4.11.3 dnspython-2.1.0 esda-2.3.6 flask-compress-1.9.0 flask-cors-3.0.10 flask-json-0.3.4 geosnap-0.5.0 giddy-2.3.3 iniconfig-1.1.1 itsdangerous-1.1.0 jsonlines-1.2.0 pluggy-0.13.1 py-1.10.0 pygeos-0.9 pytest-6.2.4 quantecon-0.5.0 quilt3-3.4.0 rasterstats-0.15.0 region-0.2.1 requests-futures-1.0.0 spenc-0.2 tenacity-7.0.0 tobler-0.7.0 toml-0.10.2\n"
     ]
    }
   ],
   "source": [
    "!pip install geosnap==0.5.0"
   ]
  },
  {
   "cell_type": "code",
   "execution_count": 2,
   "metadata": {
    "scrolled": true
   },
   "outputs": [
    {
     "name": "stdout",
     "output_type": "stream",
     "text": [
      "Collecting contextily\n",
      "  Downloading contextily-1.1.0-py3-none-any.whl (24 kB)\n",
      "Requirement already satisfied: requests in /opt/conda/lib/python3.7/site-packages (from contextily) (2.23.0)\n",
      "Collecting mercantile\n",
      "  Downloading mercantile-1.2.1-py3-none-any.whl (14 kB)\n",
      "Requirement already satisfied: geopy in /opt/conda/lib/python3.7/site-packages (from contextily) (1.21.0)\n",
      "Requirement already satisfied: pillow in /opt/conda/lib/python3.7/site-packages (from contextily) (7.0.0)\n",
      "Requirement already satisfied: rasterio in /opt/conda/lib/python3.7/site-packages (from contextily) (1.1.3)\n",
      "Requirement already satisfied: joblib in /opt/conda/lib/python3.7/site-packages (from contextily) (0.14.1)\n",
      "Requirement already satisfied: matplotlib in /opt/conda/lib/python3.7/site-packages (from contextily) (3.1.3)\n",
      "Requirement already satisfied: chardet<4,>=3.0.2 in /opt/conda/lib/python3.7/site-packages (from requests->contextily) (3.0.4)\n",
      "Requirement already satisfied: urllib3!=1.25.0,!=1.25.1,<1.26,>=1.21.1 in /opt/conda/lib/python3.7/site-packages (from requests->contextily) (1.25.7)\n",
      "Requirement already satisfied: idna<3,>=2.5 in /opt/conda/lib/python3.7/site-packages (from requests->contextily) (2.9)\n",
      "Requirement already satisfied: certifi>=2017.4.17 in /opt/conda/lib/python3.7/site-packages (from requests->contextily) (2020.6.20)\n",
      "Requirement already satisfied: click>=3.0 in /opt/conda/lib/python3.7/site-packages (from mercantile->contextily) (7.1.1)\n",
      "Requirement already satisfied: geographiclib<2,>=1.49 in /opt/conda/lib/python3.7/site-packages (from geopy->contextily) (1.50)\n",
      "Requirement already satisfied: affine in /opt/conda/lib/python3.7/site-packages (from rasterio->contextily) (2.3.0)\n",
      "Requirement already satisfied: snuggs>=1.4.1 in /opt/conda/lib/python3.7/site-packages (from rasterio->contextily) (1.4.7)\n",
      "Requirement already satisfied: numpy in /opt/conda/lib/python3.7/site-packages (from rasterio->contextily) (1.18.1)\n",
      "Requirement already satisfied: cligj>=0.5 in /opt/conda/lib/python3.7/site-packages (from rasterio->contextily) (0.5.0)\n",
      "Requirement already satisfied: click-plugins in /opt/conda/lib/python3.7/site-packages (from rasterio->contextily) (1.1.1)\n",
      "Requirement already satisfied: attrs in /opt/conda/lib/python3.7/site-packages (from rasterio->contextily) (19.3.0)\n",
      "Requirement already satisfied: pyparsing!=2.0.4,!=2.1.2,!=2.1.6,>=2.0.1 in /opt/conda/lib/python3.7/site-packages (from matplotlib->contextily) (2.4.6)\n",
      "Requirement already satisfied: kiwisolver>=1.0.1 in /opt/conda/lib/python3.7/site-packages (from matplotlib->contextily) (1.1.0)\n",
      "Requirement already satisfied: cycler>=0.10 in /opt/conda/lib/python3.7/site-packages (from matplotlib->contextily) (0.10.0)\n",
      "Requirement already satisfied: python-dateutil>=2.1 in /opt/conda/lib/python3.7/site-packages (from matplotlib->contextily) (2.8.1)\n",
      "Requirement already satisfied: setuptools in /opt/conda/lib/python3.7/site-packages (from kiwisolver>=1.0.1->matplotlib->contextily) (45.2.0.post20200209)\n",
      "Requirement already satisfied: six in /opt/conda/lib/python3.7/site-packages (from cycler>=0.10->matplotlib->contextily) (1.14.0)\n",
      "Installing collected packages: mercantile, contextily\n",
      "Successfully installed contextily-1.1.0 mercantile-1.2.1\n"
     ]
    }
   ],
   "source": [
    "!pip install contextily"
   ]
  },
  {
   "cell_type": "code",
   "execution_count": 3,
   "metadata": {
    "scrolled": true
   },
   "outputs": [
    {
     "name": "stdout",
     "output_type": "stream",
     "text": [
      "Collecting scikit-plot\n",
      "  Downloading scikit_plot-0.3.7-py3-none-any.whl (33 kB)\n",
      "Requirement already satisfied: scipy>=0.9 in /opt/conda/lib/python3.7/site-packages (from scikit-plot) (1.4.1)\n",
      "Requirement already satisfied: matplotlib>=1.4.0 in /opt/conda/lib/python3.7/site-packages (from scikit-plot) (3.1.3)\n",
      "Requirement already satisfied: joblib>=0.10 in /opt/conda/lib/python3.7/site-packages (from scikit-plot) (0.14.1)\n",
      "Requirement already satisfied: scikit-learn>=0.18 in /opt/conda/lib/python3.7/site-packages (from scikit-plot) (0.22.2.post1)\n",
      "Requirement already satisfied: numpy>=1.13.3 in /opt/conda/lib/python3.7/site-packages (from scipy>=0.9->scikit-plot) (1.18.1)\n",
      "Requirement already satisfied: pyparsing!=2.0.4,!=2.1.2,!=2.1.6,>=2.0.1 in /opt/conda/lib/python3.7/site-packages (from matplotlib>=1.4.0->scikit-plot) (2.4.6)\n",
      "Requirement already satisfied: python-dateutil>=2.1 in /opt/conda/lib/python3.7/site-packages (from matplotlib>=1.4.0->scikit-plot) (2.8.1)\n",
      "Requirement already satisfied: cycler>=0.10 in /opt/conda/lib/python3.7/site-packages (from matplotlib>=1.4.0->scikit-plot) (0.10.0)\n",
      "Requirement already satisfied: kiwisolver>=1.0.1 in /opt/conda/lib/python3.7/site-packages (from matplotlib>=1.4.0->scikit-plot) (1.1.0)\n",
      "Requirement already satisfied: six>=1.5 in /opt/conda/lib/python3.7/site-packages (from python-dateutil>=2.1->matplotlib>=1.4.0->scikit-plot) (1.14.0)\n",
      "Requirement already satisfied: setuptools in /opt/conda/lib/python3.7/site-packages (from kiwisolver>=1.0.1->matplotlib>=1.4.0->scikit-plot) (45.2.0.post20200209)\n",
      "Installing collected packages: scikit-plot\n",
      "Successfully installed scikit-plot-0.3.7\n"
     ]
    }
   ],
   "source": [
    "!pip install scikit-plot"
   ]
  },
  {
   "cell_type": "code",
   "execution_count": 4,
   "metadata": {
    "scrolled": true
   },
   "outputs": [
    {
     "name": "stdout",
     "output_type": "stream",
     "text": [
      "Collecting hdbscan\n",
      "  Downloading hdbscan-0.8.27.tar.gz (6.4 MB)\n",
      "\u001b[K     |████████████████████████████████| 6.4 MB 10.0 MB/s eta 0:00:01�██▌                | 3.1 MB 10.0 MB/s eta 0:00:01�███████████████▌       | 4.9 MB 10.0 MB/s eta 0:00:01\n",
      "\u001b[?25h  Installing build dependencies ... \u001b[?25ldone\n",
      "\u001b[?25h  Getting requirements to build wheel ... \u001b[?25ldone\n",
      "\u001b[?25h    Preparing wheel metadata ... \u001b[?25ldone\n",
      "\u001b[?25hRequirement already satisfied: six in /opt/conda/lib/python3.7/site-packages (from hdbscan) (1.14.0)\n",
      "Requirement already satisfied: scipy>=1.0 in /opt/conda/lib/python3.7/site-packages (from hdbscan) (1.4.1)\n",
      "Requirement already satisfied: scikit-learn>=0.20 in /opt/conda/lib/python3.7/site-packages (from hdbscan) (0.22.2.post1)\n",
      "Requirement already satisfied: numpy>=1.16 in /opt/conda/lib/python3.7/site-packages (from hdbscan) (1.18.1)\n",
      "Collecting joblib>=1.0\n",
      "  Downloading joblib-1.0.1-py3-none-any.whl (303 kB)\n",
      "\u001b[K     |████████████████████████████████| 303 kB 21.8 MB/s eta 0:00:01\n",
      "\u001b[?25hRequirement already satisfied: cython>=0.27 in /opt/conda/lib/python3.7/site-packages (from hdbscan) (0.29.15)\n",
      "Building wheels for collected packages: hdbscan\n",
      "  Building wheel for hdbscan (PEP 517) ... \u001b[?25ldone\n",
      "\u001b[?25h  Created wheel for hdbscan: filename=hdbscan-0.8.27-cp37-cp37m-linux_x86_64.whl size=2410960 sha256=3994de0bc8be0e82727ab489e57a5c1ff36157bfa62ee2e01935c8ff4065199d\n",
      "  Stored in directory: /home/jovyan/.cache/pip/wheels/73/5f/2f/9a259b84003b84847c259779206acecabb25ab56f1506ee72b\n",
      "Successfully built hdbscan\n",
      "Installing collected packages: joblib, hdbscan\n",
      "  Attempting uninstall: joblib\n",
      "    Found existing installation: joblib 0.14.1\n",
      "    Uninstalling joblib-0.14.1:\n",
      "      Successfully uninstalled joblib-0.14.1\n",
      "Successfully installed hdbscan-0.8.27 joblib-1.0.1\n"
     ]
    }
   ],
   "source": [
    "!pip install hdbscan"
   ]
  },
  {
   "cell_type": "markdown",
   "metadata": {},
   "source": [
    "### To use LTDB data, you need to download the two datasets below and excute below.\n",
    "\n",
    "Download LTDB data at https://s4.ad.brown.edu/projects/diversity/Researcher/LTDB.htm and create the folder, “downloads”.\n",
    "On the webpage above, <strong>CLICK<a href=\"https://s4.ad.brown.edu/projects/diversity/Researcher/LTBDDload/Default.aspx\"> HERE</a> for the download page</strong> under the section  <strong>\"USE the LTDB\"</strong>. Provide your email address and check for all agreements. On the next page, Two drop-down boxes “Select a file type:” and “Select a year” with a button, “Download Standard Data Files” are available. Download both “Full” and “Sample” for “All Years”. Then, you are going to have two datasets, “LTDB_Std_All_fullcount.zip” and “LTDB_Std_All_Sample.zip”\n",
    "\n",
    "In the source code, the command lines below should be executed only for the first run to write LTDB data to your disk. This process takes a few minutes. But you do not need to repeat it from the second run. "
   ]
  },
  {
   "cell_type": "code",
   "execution_count": 8,
   "metadata": {
    "scrolled": true
   },
   "outputs": [
    {
     "name": "stderr",
     "output_type": "stream",
     "text": [
      "Hashing: 100%|██████████| 300M/300M [00:00<00:00, 310MB/s] \n"
     ]
    }
   ],
   "source": [
    "from geosnap.io import store_ltdb\n",
    "\n",
    "# if the archives were in my downloads folder, the paths might be something like this\n",
    "sample = \"downloads/LTDB_Std_All_Sample.zip\"\n",
    "full = \"downloads/LTDB_Std_All_fullcount.zip\"\n",
    "\n",
    "# uncomment to run\n",
    "store_ltdb(sample=sample, fullcount=full)"
   ]
  },
  {
   "cell_type": "code",
   "execution_count": 9,
   "metadata": {},
   "outputs": [],
   "source": [
    "from geosnap import Community"
   ]
  },
  {
   "cell_type": "code",
   "execution_count": 12,
   "metadata": {},
   "outputs": [
    {
     "ename": "KeyError",
     "evalue": "'wkb'",
     "output_type": "error",
     "traceback": [
      "\u001b[0;31m---------------------------------------------------------------------------\u001b[0m",
      "\u001b[0;31mKeyError\u001b[0m                                  Traceback (most recent call last)",
      "\u001b[0;32m/opt/conda/lib/python3.7/site-packages/pandas/core/indexes/base.py\u001b[0m in \u001b[0;36mget_loc\u001b[0;34m(self, key, method, tolerance)\u001b[0m\n\u001b[1;32m   2645\u001b[0m             \u001b[0;32mtry\u001b[0m\u001b[0;34m:\u001b[0m\u001b[0;34m\u001b[0m\u001b[0;34m\u001b[0m\u001b[0m\n\u001b[0;32m-> 2646\u001b[0;31m                 \u001b[0;32mreturn\u001b[0m \u001b[0mself\u001b[0m\u001b[0;34m.\u001b[0m\u001b[0m_engine\u001b[0m\u001b[0;34m.\u001b[0m\u001b[0mget_loc\u001b[0m\u001b[0;34m(\u001b[0m\u001b[0mkey\u001b[0m\u001b[0;34m)\u001b[0m\u001b[0;34m\u001b[0m\u001b[0;34m\u001b[0m\u001b[0m\n\u001b[0m\u001b[1;32m   2647\u001b[0m             \u001b[0;32mexcept\u001b[0m \u001b[0mKeyError\u001b[0m\u001b[0;34m:\u001b[0m\u001b[0;34m\u001b[0m\u001b[0;34m\u001b[0m\u001b[0m\n",
      "\u001b[0;32mpandas/_libs/index.pyx\u001b[0m in \u001b[0;36mpandas._libs.index.IndexEngine.get_loc\u001b[0;34m()\u001b[0m\n",
      "\u001b[0;32mpandas/_libs/index.pyx\u001b[0m in \u001b[0;36mpandas._libs.index.IndexEngine.get_loc\u001b[0;34m()\u001b[0m\n",
      "\u001b[0;32mpandas/_libs/hashtable_class_helper.pxi\u001b[0m in \u001b[0;36mpandas._libs.hashtable.PyObjectHashTable.get_item\u001b[0;34m()\u001b[0m\n",
      "\u001b[0;32mpandas/_libs/hashtable_class_helper.pxi\u001b[0m in \u001b[0;36mpandas._libs.hashtable.PyObjectHashTable.get_item\u001b[0;34m()\u001b[0m\n",
      "\u001b[0;31mKeyError\u001b[0m: 'wkb'",
      "\nDuring handling of the above exception, another exception occurred:\n",
      "\u001b[0;31mKeyError\u001b[0m                                  Traceback (most recent call last)",
      "\u001b[0;32m<ipython-input-12-9e03fbf459f0>\u001b[0m in \u001b[0;36m<module>\u001b[0;34m\u001b[0m\n\u001b[1;32m      1\u001b[0m \u001b[0;31m# this will create a new community using data from Washington DC (which is fips code 11)\u001b[0m\u001b[0;34m\u001b[0m\u001b[0;34m\u001b[0m\u001b[0;34m\u001b[0m\u001b[0m\n\u001b[0;32m----> 2\u001b[0;31m \u001b[0mdc\u001b[0m \u001b[0;34m=\u001b[0m \u001b[0mCommunity\u001b[0m\u001b[0;34m.\u001b[0m\u001b[0mfrom_census\u001b[0m\u001b[0;34m(\u001b[0m\u001b[0mstate_fips\u001b[0m\u001b[0;34m=\u001b[0m\u001b[0;34m\"11\"\u001b[0m\u001b[0;34m)\u001b[0m\u001b[0;34m\u001b[0m\u001b[0;34m\u001b[0m\u001b[0m\n\u001b[0m",
      "\u001b[0;32m/opt/conda/lib/python3.7/site-packages/geosnap/_community.py\u001b[0m in \u001b[0;36mfrom_census\u001b[0;34m(cls, state_fips, county_fips, msa_fips, fips, boundary, years)\u001b[0m\n\u001b[1;32m   1668\u001b[0m \u001b[0;34m\u001b[0m\u001b[0m\n\u001b[1;32m   1669\u001b[0m         df_dict = {\n\u001b[0;32m-> 1670\u001b[0;31m             \u001b[0;36m1990\u001b[0m\u001b[0;34m:\u001b[0m \u001b[0mdatasets\u001b[0m\u001b[0;34m.\u001b[0m\u001b[0mtracts_1990\u001b[0m\u001b[0;34m(\u001b[0m\u001b[0mstates\u001b[0m\u001b[0;34m=\u001b[0m\u001b[0mstates\u001b[0m\u001b[0;34m)\u001b[0m\u001b[0;34m,\u001b[0m\u001b[0;34m\u001b[0m\u001b[0;34m\u001b[0m\u001b[0m\n\u001b[0m\u001b[1;32m   1671\u001b[0m             \u001b[0;36m2000\u001b[0m\u001b[0;34m:\u001b[0m \u001b[0mdatasets\u001b[0m\u001b[0;34m.\u001b[0m\u001b[0mtracts_2000\u001b[0m\u001b[0;34m(\u001b[0m\u001b[0mstates\u001b[0m\u001b[0;34m=\u001b[0m\u001b[0mstates\u001b[0m\u001b[0;34m)\u001b[0m\u001b[0;34m,\u001b[0m\u001b[0;34m\u001b[0m\u001b[0;34m\u001b[0m\u001b[0m\n\u001b[1;32m   1672\u001b[0m             \u001b[0;36m2010\u001b[0m\u001b[0;34m:\u001b[0m \u001b[0mdatasets\u001b[0m\u001b[0;34m.\u001b[0m\u001b[0mtracts_2010\u001b[0m\u001b[0;34m(\u001b[0m\u001b[0mstates\u001b[0m\u001b[0;34m=\u001b[0m\u001b[0mstates\u001b[0m\u001b[0;34m)\u001b[0m\u001b[0;34m,\u001b[0m\u001b[0;34m\u001b[0m\u001b[0;34m\u001b[0m\u001b[0m\n",
      "\u001b[0;32m/opt/conda/lib/python3.7/site-packages/geosnap/_data.py\u001b[0m in \u001b[0;36mtracts_1990\u001b[0;34m(self, states, convert)\u001b[0m\n\u001b[1;32m    308\u001b[0m         \u001b[0mt\u001b[0m\u001b[0;34m[\u001b[0m\u001b[0;34m\"year\"\u001b[0m\u001b[0;34m]\u001b[0m \u001b[0;34m=\u001b[0m \u001b[0;36m1990\u001b[0m\u001b[0;34m\u001b[0m\u001b[0;34m\u001b[0m\u001b[0m\n\u001b[1;32m    309\u001b[0m         \u001b[0;32mif\u001b[0m \u001b[0mconvert\u001b[0m\u001b[0;34m:\u001b[0m\u001b[0;34m\u001b[0m\u001b[0;34m\u001b[0m\u001b[0m\n\u001b[0;32m--> 310\u001b[0;31m             \u001b[0;32mreturn\u001b[0m \u001b[0m_convert_gdf\u001b[0m\u001b[0;34m(\u001b[0m\u001b[0mt\u001b[0m\u001b[0;34m)\u001b[0m\u001b[0;34m\u001b[0m\u001b[0;34m\u001b[0m\u001b[0m\n\u001b[0m\u001b[1;32m    311\u001b[0m         \u001b[0;32melse\u001b[0m\u001b[0;34m:\u001b[0m\u001b[0;34m\u001b[0m\u001b[0;34m\u001b[0m\u001b[0m\n\u001b[1;32m    312\u001b[0m             \u001b[0;32mreturn\u001b[0m \u001b[0mt\u001b[0m\u001b[0;34m\u001b[0m\u001b[0;34m\u001b[0m\u001b[0m\n",
      "\u001b[0;32m/opt/conda/lib/python3.7/site-packages/geosnap/_data.py\u001b[0m in \u001b[0;36m_convert_gdf\u001b[0;34m(df)\u001b[0m\n\u001b[1;32m     95\u001b[0m     \u001b[0;32melse\u001b[0m\u001b[0;34m:\u001b[0m\u001b[0;34m\u001b[0m\u001b[0;34m\u001b[0m\u001b[0m\n\u001b[1;32m     96\u001b[0m         \u001b[0;32mwith\u001b[0m \u001b[0mmultiprocessing\u001b[0m\u001b[0;34m.\u001b[0m\u001b[0mPool\u001b[0m\u001b[0;34m(\u001b[0m\u001b[0;34m)\u001b[0m \u001b[0;32mas\u001b[0m \u001b[0mP\u001b[0m\u001b[0;34m:\u001b[0m\u001b[0;34m\u001b[0m\u001b[0;34m\u001b[0m\u001b[0m\n\u001b[0;32m---> 97\u001b[0;31m             \u001b[0mdf\u001b[0m\u001b[0;34m[\u001b[0m\u001b[0;34m\"geometry\"\u001b[0m\u001b[0;34m]\u001b[0m \u001b[0;34m=\u001b[0m \u001b[0mP\u001b[0m\u001b[0;34m.\u001b[0m\u001b[0mmap\u001b[0m\u001b[0;34m(\u001b[0m\u001b[0m_deserialize_wkb\u001b[0m\u001b[0;34m,\u001b[0m \u001b[0mdf\u001b[0m\u001b[0;34m[\u001b[0m\u001b[0;34m\"wkb\"\u001b[0m\u001b[0;34m]\u001b[0m\u001b[0;34m)\u001b[0m\u001b[0;34m\u001b[0m\u001b[0;34m\u001b[0m\u001b[0m\n\u001b[0m\u001b[1;32m     98\u001b[0m         \u001b[0mdf\u001b[0m \u001b[0;34m=\u001b[0m \u001b[0mdf\u001b[0m\u001b[0;34m.\u001b[0m\u001b[0mdrop\u001b[0m\u001b[0;34m(\u001b[0m\u001b[0mcolumns\u001b[0m\u001b[0;34m=\u001b[0m\u001b[0;34m[\u001b[0m\u001b[0;34m\"wkb\"\u001b[0m\u001b[0;34m]\u001b[0m\u001b[0;34m)\u001b[0m\u001b[0;34m\u001b[0m\u001b[0;34m\u001b[0m\u001b[0m\n\u001b[1;32m     99\u001b[0m \u001b[0;34m\u001b[0m\u001b[0m\n",
      "\u001b[0;32m/opt/conda/lib/python3.7/site-packages/pandas/core/frame.py\u001b[0m in \u001b[0;36m__getitem__\u001b[0;34m(self, key)\u001b[0m\n\u001b[1;32m   2798\u001b[0m             \u001b[0;32mif\u001b[0m \u001b[0mself\u001b[0m\u001b[0;34m.\u001b[0m\u001b[0mcolumns\u001b[0m\u001b[0;34m.\u001b[0m\u001b[0mnlevels\u001b[0m \u001b[0;34m>\u001b[0m \u001b[0;36m1\u001b[0m\u001b[0;34m:\u001b[0m\u001b[0;34m\u001b[0m\u001b[0;34m\u001b[0m\u001b[0m\n\u001b[1;32m   2799\u001b[0m                 \u001b[0;32mreturn\u001b[0m \u001b[0mself\u001b[0m\u001b[0;34m.\u001b[0m\u001b[0m_getitem_multilevel\u001b[0m\u001b[0;34m(\u001b[0m\u001b[0mkey\u001b[0m\u001b[0;34m)\u001b[0m\u001b[0;34m\u001b[0m\u001b[0;34m\u001b[0m\u001b[0m\n\u001b[0;32m-> 2800\u001b[0;31m             \u001b[0mindexer\u001b[0m \u001b[0;34m=\u001b[0m \u001b[0mself\u001b[0m\u001b[0;34m.\u001b[0m\u001b[0mcolumns\u001b[0m\u001b[0;34m.\u001b[0m\u001b[0mget_loc\u001b[0m\u001b[0;34m(\u001b[0m\u001b[0mkey\u001b[0m\u001b[0;34m)\u001b[0m\u001b[0;34m\u001b[0m\u001b[0;34m\u001b[0m\u001b[0m\n\u001b[0m\u001b[1;32m   2801\u001b[0m             \u001b[0;32mif\u001b[0m \u001b[0mis_integer\u001b[0m\u001b[0;34m(\u001b[0m\u001b[0mindexer\u001b[0m\u001b[0;34m)\u001b[0m\u001b[0;34m:\u001b[0m\u001b[0;34m\u001b[0m\u001b[0;34m\u001b[0m\u001b[0m\n\u001b[1;32m   2802\u001b[0m                 \u001b[0mindexer\u001b[0m \u001b[0;34m=\u001b[0m \u001b[0;34m[\u001b[0m\u001b[0mindexer\u001b[0m\u001b[0;34m]\u001b[0m\u001b[0;34m\u001b[0m\u001b[0;34m\u001b[0m\u001b[0m\n",
      "\u001b[0;32m/opt/conda/lib/python3.7/site-packages/pandas/core/indexes/base.py\u001b[0m in \u001b[0;36mget_loc\u001b[0;34m(self, key, method, tolerance)\u001b[0m\n\u001b[1;32m   2646\u001b[0m                 \u001b[0;32mreturn\u001b[0m \u001b[0mself\u001b[0m\u001b[0;34m.\u001b[0m\u001b[0m_engine\u001b[0m\u001b[0;34m.\u001b[0m\u001b[0mget_loc\u001b[0m\u001b[0;34m(\u001b[0m\u001b[0mkey\u001b[0m\u001b[0;34m)\u001b[0m\u001b[0;34m\u001b[0m\u001b[0;34m\u001b[0m\u001b[0m\n\u001b[1;32m   2647\u001b[0m             \u001b[0;32mexcept\u001b[0m \u001b[0mKeyError\u001b[0m\u001b[0;34m:\u001b[0m\u001b[0;34m\u001b[0m\u001b[0;34m\u001b[0m\u001b[0m\n\u001b[0;32m-> 2648\u001b[0;31m                 \u001b[0;32mreturn\u001b[0m \u001b[0mself\u001b[0m\u001b[0;34m.\u001b[0m\u001b[0m_engine\u001b[0m\u001b[0;34m.\u001b[0m\u001b[0mget_loc\u001b[0m\u001b[0;34m(\u001b[0m\u001b[0mself\u001b[0m\u001b[0;34m.\u001b[0m\u001b[0m_maybe_cast_indexer\u001b[0m\u001b[0;34m(\u001b[0m\u001b[0mkey\u001b[0m\u001b[0;34m)\u001b[0m\u001b[0;34m)\u001b[0m\u001b[0;34m\u001b[0m\u001b[0;34m\u001b[0m\u001b[0m\n\u001b[0m\u001b[1;32m   2649\u001b[0m         \u001b[0mindexer\u001b[0m \u001b[0;34m=\u001b[0m \u001b[0mself\u001b[0m\u001b[0;34m.\u001b[0m\u001b[0mget_indexer\u001b[0m\u001b[0;34m(\u001b[0m\u001b[0;34m[\u001b[0m\u001b[0mkey\u001b[0m\u001b[0;34m]\u001b[0m\u001b[0;34m,\u001b[0m \u001b[0mmethod\u001b[0m\u001b[0;34m=\u001b[0m\u001b[0mmethod\u001b[0m\u001b[0;34m,\u001b[0m \u001b[0mtolerance\u001b[0m\u001b[0;34m=\u001b[0m\u001b[0mtolerance\u001b[0m\u001b[0;34m)\u001b[0m\u001b[0;34m\u001b[0m\u001b[0;34m\u001b[0m\u001b[0m\n\u001b[1;32m   2650\u001b[0m         \u001b[0;32mif\u001b[0m \u001b[0mindexer\u001b[0m\u001b[0;34m.\u001b[0m\u001b[0mndim\u001b[0m \u001b[0;34m>\u001b[0m \u001b[0;36m1\u001b[0m \u001b[0;32mor\u001b[0m \u001b[0mindexer\u001b[0m\u001b[0;34m.\u001b[0m\u001b[0msize\u001b[0m \u001b[0;34m>\u001b[0m \u001b[0;36m1\u001b[0m\u001b[0;34m:\u001b[0m\u001b[0;34m\u001b[0m\u001b[0;34m\u001b[0m\u001b[0m\n",
      "\u001b[0;32mpandas/_libs/index.pyx\u001b[0m in \u001b[0;36mpandas._libs.index.IndexEngine.get_loc\u001b[0;34m()\u001b[0m\n",
      "\u001b[0;32mpandas/_libs/index.pyx\u001b[0m in \u001b[0;36mpandas._libs.index.IndexEngine.get_loc\u001b[0;34m()\u001b[0m\n",
      "\u001b[0;32mpandas/_libs/hashtable_class_helper.pxi\u001b[0m in \u001b[0;36mpandas._libs.hashtable.PyObjectHashTable.get_item\u001b[0;34m()\u001b[0m\n",
      "\u001b[0;32mpandas/_libs/hashtable_class_helper.pxi\u001b[0m in \u001b[0;36mpandas._libs.hashtable.PyObjectHashTable.get_item\u001b[0;34m()\u001b[0m\n",
      "\u001b[0;31mKeyError\u001b[0m: 'wkb'"
     ]
    }
   ],
   "source": [
    "# this will create a new community using data from Washington DC (which is fips code 11)\n",
    "dc = Community.from_census(state_fips=\"11\")"
   ]
  },
  {
   "cell_type": "code",
   "execution_count": null,
   "metadata": {},
   "outputs": [],
   "source": [
    "dc.gdf.head()"
   ]
  },
  {
   "cell_type": "code",
   "execution_count": null,
   "metadata": {},
   "outputs": [],
   "source": []
  }
 ],
 "metadata": {
  "kernelspec": {
   "display_name": "Python 3",
   "language": "python",
   "name": "python3"
  },
  "language_info": {
   "codemirror_mode": {
    "name": "ipython",
    "version": 3
   },
   "file_extension": ".py",
   "mimetype": "text/x-python",
   "name": "python",
   "nbconvert_exporter": "python",
   "pygments_lexer": "ipython3",
   "version": "3.7.6"
  }
 },
 "nbformat": 4,
 "nbformat_minor": 4
}
