{
 "cells": [
  {
   "cell_type": "code",
   "execution_count": 34,
   "metadata": {
    "scrolled": true
   },
   "outputs": [],
   "source": [
    "import pandas as pd\n",
    "import geopandas as gpd\n",
    "from Adaptive_Choropleth_Mapper import Adaptive_Choropleth_Mapper_viz"
   ]
  },
  {
   "cell_type": "markdown",
   "metadata": {},
   "source": [
    "## Linked Choropleth Map Visulaizations using ACM with data received from users"
   ]
  },
  {
   "cell_type": "markdown",
   "metadata": {},
   "source": [
    "### Receive variable in CSV"
   ]
  },
  {
   "cell_type": "code",
   "execution_count": 35,
   "metadata": {
    "scrolled": true
   },
   "outputs": [
    {
     "data": {
      "text/html": [
       "<div>\n",
       "<style scoped>\n",
       "    .dataframe tbody tr th:only-of-type {\n",
       "        vertical-align: middle;\n",
       "    }\n",
       "\n",
       "    .dataframe tbody tr th {\n",
       "        vertical-align: top;\n",
       "    }\n",
       "\n",
       "    .dataframe thead th {\n",
       "        text-align: right;\n",
       "    }\n",
       "</style>\n",
       "<table border=\"1\" class=\"dataframe\">\n",
       "  <thead>\n",
       "    <tr style=\"text-align: right;\">\n",
       "      <th></th>\n",
       "      <th>tractID</th>\n",
       "      <th>% White</th>\n",
       "      <th>% Black</th>\n",
       "      <th>% Asian</th>\n",
       "      <th>% Hispanic</th>\n",
       "      <th>% Owner occupied housing</th>\n",
       "      <th>% Foreign born</th>\n",
       "      <th>% Bachelor's degree</th>\n",
       "      <th>% Graduate or professional degree</th>\n",
       "      <th>% High school graduate or higher</th>\n",
       "      <th>% Service occupations</th>\n",
       "      <th>% Manufacturing</th>\n",
       "      <th>% Management, business, science, and arts occupations</th>\n",
       "      <th>% Natural resources, construction, and maintenance occupations</th>\n",
       "      <th>% Production, transportation, and material moving occupations</th>\n",
       "      <th>% Poverty</th>\n",
       "      <th>year</th>\n",
       "    </tr>\n",
       "  </thead>\n",
       "  <tbody>\n",
       "    <tr>\n",
       "      <th>0</th>\n",
       "      <td>17031430200</td>\n",
       "      <td>8.5</td>\n",
       "      <td>90.2</td>\n",
       "      <td>0.0</td>\n",
       "      <td>5.6</td>\n",
       "      <td>14.3</td>\n",
       "      <td>5.7</td>\n",
       "      <td>11.1</td>\n",
       "      <td>12.2</td>\n",
       "      <td>85.6</td>\n",
       "      <td>27.6</td>\n",
       "      <td>1.9</td>\n",
       "      <td>32.0</td>\n",
       "      <td>0.0</td>\n",
       "      <td>15.6</td>\n",
       "      <td>25.2</td>\n",
       "      <td>2018</td>\n",
       "    </tr>\n",
       "    <tr>\n",
       "      <th>1</th>\n",
       "      <td>17031430500</td>\n",
       "      <td>1.5</td>\n",
       "      <td>96.5</td>\n",
       "      <td>0.3</td>\n",
       "      <td>1.9</td>\n",
       "      <td>9.0</td>\n",
       "      <td>2.2</td>\n",
       "      <td>2.3</td>\n",
       "      <td>5.5</td>\n",
       "      <td>79.8</td>\n",
       "      <td>26.3</td>\n",
       "      <td>2.3</td>\n",
       "      <td>31.6</td>\n",
       "      <td>3.0</td>\n",
       "      <td>18.7</td>\n",
       "      <td>56.0</td>\n",
       "      <td>2018</td>\n",
       "    </tr>\n",
       "    <tr>\n",
       "      <th>2</th>\n",
       "      <td>17031431400</td>\n",
       "      <td>7.8</td>\n",
       "      <td>88.6</td>\n",
       "      <td>0.3</td>\n",
       "      <td>1.1</td>\n",
       "      <td>14.0</td>\n",
       "      <td>6.6</td>\n",
       "      <td>11.5</td>\n",
       "      <td>10.0</td>\n",
       "      <td>90.3</td>\n",
       "      <td>35.1</td>\n",
       "      <td>7.5</td>\n",
       "      <td>29.3</td>\n",
       "      <td>2.1</td>\n",
       "      <td>14.1</td>\n",
       "      <td>31.3</td>\n",
       "      <td>2018</td>\n",
       "    </tr>\n",
       "    <tr>\n",
       "      <th>3</th>\n",
       "      <td>17031440700</td>\n",
       "      <td>2.6</td>\n",
       "      <td>97.0</td>\n",
       "      <td>0.0</td>\n",
       "      <td>0.0</td>\n",
       "      <td>67.1</td>\n",
       "      <td>11.3</td>\n",
       "      <td>20.2</td>\n",
       "      <td>8.9</td>\n",
       "      <td>91.7</td>\n",
       "      <td>23.6</td>\n",
       "      <td>3.1</td>\n",
       "      <td>27.7</td>\n",
       "      <td>1.2</td>\n",
       "      <td>26.5</td>\n",
       "      <td>10.1</td>\n",
       "      <td>2018</td>\n",
       "    </tr>\n",
       "    <tr>\n",
       "      <th>4</th>\n",
       "      <td>17031470100</td>\n",
       "      <td>2.0</td>\n",
       "      <td>97.0</td>\n",
       "      <td>0.0</td>\n",
       "      <td>1.6</td>\n",
       "      <td>46.6</td>\n",
       "      <td>3.0</td>\n",
       "      <td>6.2</td>\n",
       "      <td>7.2</td>\n",
       "      <td>85.5</td>\n",
       "      <td>20.0</td>\n",
       "      <td>16.0</td>\n",
       "      <td>18.3</td>\n",
       "      <td>4.4</td>\n",
       "      <td>34.5</td>\n",
       "      <td>11.1</td>\n",
       "      <td>2018</td>\n",
       "    </tr>\n",
       "    <tr>\n",
       "      <th>...</th>\n",
       "      <td>...</td>\n",
       "      <td>...</td>\n",
       "      <td>...</td>\n",
       "      <td>...</td>\n",
       "      <td>...</td>\n",
       "      <td>...</td>\n",
       "      <td>...</td>\n",
       "      <td>...</td>\n",
       "      <td>...</td>\n",
       "      <td>...</td>\n",
       "      <td>...</td>\n",
       "      <td>...</td>\n",
       "      <td>...</td>\n",
       "      <td>...</td>\n",
       "      <td>...</td>\n",
       "      <td>...</td>\n",
       "      <td>...</td>\n",
       "    </tr>\n",
       "    <tr>\n",
       "      <th>1314</th>\n",
       "      <td>17031071600</td>\n",
       "      <td>78.5</td>\n",
       "      <td>10.3</td>\n",
       "      <td>6.9</td>\n",
       "      <td>5.2</td>\n",
       "      <td>64.1</td>\n",
       "      <td>11.1</td>\n",
       "      <td>36.6</td>\n",
       "      <td>42.2</td>\n",
       "      <td>98.2</td>\n",
       "      <td>4.4</td>\n",
       "      <td>2.4</td>\n",
       "      <td>77.0</td>\n",
       "      <td>0.0</td>\n",
       "      <td>0.4</td>\n",
       "      <td>2.2</td>\n",
       "      <td>2018</td>\n",
       "    </tr>\n",
       "    <tr>\n",
       "      <th>1315</th>\n",
       "      <td>17031071800</td>\n",
       "      <td>78.3</td>\n",
       "      <td>10.2</td>\n",
       "      <td>9.4</td>\n",
       "      <td>5.9</td>\n",
       "      <td>59.9</td>\n",
       "      <td>16.5</td>\n",
       "      <td>47.7</td>\n",
       "      <td>35.2</td>\n",
       "      <td>97.1</td>\n",
       "      <td>4.1</td>\n",
       "      <td>6.7</td>\n",
       "      <td>76.1</td>\n",
       "      <td>1.3</td>\n",
       "      <td>1.1</td>\n",
       "      <td>0.0</td>\n",
       "      <td>2018</td>\n",
       "    </tr>\n",
       "    <tr>\n",
       "      <th>1316</th>\n",
       "      <td>17031080100</td>\n",
       "      <td>88.3</td>\n",
       "      <td>2.6</td>\n",
       "      <td>5.6</td>\n",
       "      <td>2.1</td>\n",
       "      <td>48.1</td>\n",
       "      <td>7.9</td>\n",
       "      <td>43.7</td>\n",
       "      <td>40.0</td>\n",
       "      <td>98.0</td>\n",
       "      <td>4.7</td>\n",
       "      <td>10.3</td>\n",
       "      <td>68.9</td>\n",
       "      <td>0.6</td>\n",
       "      <td>0.8</td>\n",
       "      <td>1.6</td>\n",
       "      <td>2018</td>\n",
       "    </tr>\n",
       "    <tr>\n",
       "      <th>1317</th>\n",
       "      <td>17031080400</td>\n",
       "      <td>34.4</td>\n",
       "      <td>60.0</td>\n",
       "      <td>1.8</td>\n",
       "      <td>4.1</td>\n",
       "      <td>30.9</td>\n",
       "      <td>3.3</td>\n",
       "      <td>33.7</td>\n",
       "      <td>16.3</td>\n",
       "      <td>90.3</td>\n",
       "      <td>16.8</td>\n",
       "      <td>4.2</td>\n",
       "      <td>48.7</td>\n",
       "      <td>5.5</td>\n",
       "      <td>8.8</td>\n",
       "      <td>17.2</td>\n",
       "      <td>2018</td>\n",
       "    </tr>\n",
       "    <tr>\n",
       "      <th>1318</th>\n",
       "      <td>17031081300</td>\n",
       "      <td>81.0</td>\n",
       "      <td>2.4</td>\n",
       "      <td>13.9</td>\n",
       "      <td>5.0</td>\n",
       "      <td>64.4</td>\n",
       "      <td>21.1</td>\n",
       "      <td>33.1</td>\n",
       "      <td>48.3</td>\n",
       "      <td>99.3</td>\n",
       "      <td>4.8</td>\n",
       "      <td>7.5</td>\n",
       "      <td>75.2</td>\n",
       "      <td>0.9</td>\n",
       "      <td>3.3</td>\n",
       "      <td>8.2</td>\n",
       "      <td>2018</td>\n",
       "    </tr>\n",
       "  </tbody>\n",
       "</table>\n",
       "<p>1319 rows × 17 columns</p>\n",
       "</div>"
      ],
      "text/plain": [
       "          tractID  % White  % Black  % Asian  % Hispanic  \\\n",
       "0     17031430200      8.5     90.2      0.0         5.6   \n",
       "1     17031430500      1.5     96.5      0.3         1.9   \n",
       "2     17031431400      7.8     88.6      0.3         1.1   \n",
       "3     17031440700      2.6     97.0      0.0         0.0   \n",
       "4     17031470100      2.0     97.0      0.0         1.6   \n",
       "...           ...      ...      ...      ...         ...   \n",
       "1314  17031071600     78.5     10.3      6.9         5.2   \n",
       "1315  17031071800     78.3     10.2      9.4         5.9   \n",
       "1316  17031080100     88.3      2.6      5.6         2.1   \n",
       "1317  17031080400     34.4     60.0      1.8         4.1   \n",
       "1318  17031081300     81.0      2.4     13.9         5.0   \n",
       "\n",
       "      % Owner occupied housing  % Foreign born  % Bachelor's degree  \\\n",
       "0                         14.3             5.7                 11.1   \n",
       "1                          9.0             2.2                  2.3   \n",
       "2                         14.0             6.6                 11.5   \n",
       "3                         67.1            11.3                 20.2   \n",
       "4                         46.6             3.0                  6.2   \n",
       "...                        ...             ...                  ...   \n",
       "1314                      64.1            11.1                 36.6   \n",
       "1315                      59.9            16.5                 47.7   \n",
       "1316                      48.1             7.9                 43.7   \n",
       "1317                      30.9             3.3                 33.7   \n",
       "1318                      64.4            21.1                 33.1   \n",
       "\n",
       "      % Graduate or professional degree  % High school graduate or higher  \\\n",
       "0                                  12.2                              85.6   \n",
       "1                                   5.5                              79.8   \n",
       "2                                  10.0                              90.3   \n",
       "3                                   8.9                              91.7   \n",
       "4                                   7.2                              85.5   \n",
       "...                                 ...                               ...   \n",
       "1314                               42.2                              98.2   \n",
       "1315                               35.2                              97.1   \n",
       "1316                               40.0                              98.0   \n",
       "1317                               16.3                              90.3   \n",
       "1318                               48.3                              99.3   \n",
       "\n",
       "      % Service occupations  % Manufacturing  \\\n",
       "0                      27.6              1.9   \n",
       "1                      26.3              2.3   \n",
       "2                      35.1              7.5   \n",
       "3                      23.6              3.1   \n",
       "4                      20.0             16.0   \n",
       "...                     ...              ...   \n",
       "1314                    4.4              2.4   \n",
       "1315                    4.1              6.7   \n",
       "1316                    4.7             10.3   \n",
       "1317                   16.8              4.2   \n",
       "1318                    4.8              7.5   \n",
       "\n",
       "      % Management, business, science, and arts occupations  \\\n",
       "0                                                  32.0       \n",
       "1                                                  31.6       \n",
       "2                                                  29.3       \n",
       "3                                                  27.7       \n",
       "4                                                  18.3       \n",
       "...                                                 ...       \n",
       "1314                                               77.0       \n",
       "1315                                               76.1       \n",
       "1316                                               68.9       \n",
       "1317                                               48.7       \n",
       "1318                                               75.2       \n",
       "\n",
       "      % Natural resources, construction, and maintenance occupations  \\\n",
       "0                                                   0.0                \n",
       "1                                                   3.0                \n",
       "2                                                   2.1                \n",
       "3                                                   1.2                \n",
       "4                                                   4.4                \n",
       "...                                                 ...                \n",
       "1314                                                0.0                \n",
       "1315                                                1.3                \n",
       "1316                                                0.6                \n",
       "1317                                                5.5                \n",
       "1318                                                0.9                \n",
       "\n",
       "      % Production, transportation, and material moving occupations  \\\n",
       "0                                                  15.6               \n",
       "1                                                  18.7               \n",
       "2                                                  14.1               \n",
       "3                                                  26.5               \n",
       "4                                                  34.5               \n",
       "...                                                 ...               \n",
       "1314                                                0.4               \n",
       "1315                                                1.1               \n",
       "1316                                                0.8               \n",
       "1317                                                8.8               \n",
       "1318                                                3.3               \n",
       "\n",
       "      % Poverty  year  \n",
       "0          25.2  2018  \n",
       "1          56.0  2018  \n",
       "2          31.3  2018  \n",
       "3          10.1  2018  \n",
       "4          11.1  2018  \n",
       "...         ...   ...  \n",
       "1314        2.2  2018  \n",
       "1315        0.0  2018  \n",
       "1316        1.6  2018  \n",
       "1317       17.2  2018  \n",
       "1318        8.2  2018  \n",
       "\n",
       "[1319 rows x 17 columns]"
      ]
     },
     "execution_count": 35,
     "metadata": {},
     "output_type": "execute_result"
    }
   ],
   "source": [
    "input_attributes = pd.read_csv(\"attributes/ACS_2018.csv\", dtype={'geoid':str})\n",
    "input_attributes = input_attributes.rename(columns={'geoid': 'tractID'})\n",
    "input_attributes"
   ]
  },
  {
   "cell_type": "markdown",
   "metadata": {},
   "source": [
    "### Receive geometry in shapefile"
   ]
  },
  {
   "cell_type": "markdown",
   "metadata": {},
   "source": [
    " <p style=\"color: #ff0000; background-color: #ffffff;\"> The header of the first column in variables must match the header of the first column of geometry</p>"
   ]
  },
  {
   "cell_type": "code",
   "execution_count": 36,
   "metadata": {
    "scrolled": false
   },
   "outputs": [
    {
     "data": {
      "text/html": [
       "<div>\n",
       "<style scoped>\n",
       "    .dataframe tbody tr th:only-of-type {\n",
       "        vertical-align: middle;\n",
       "    }\n",
       "\n",
       "    .dataframe tbody tr th {\n",
       "        vertical-align: top;\n",
       "    }\n",
       "\n",
       "    .dataframe thead th {\n",
       "        text-align: right;\n",
       "    }\n",
       "</style>\n",
       "<table border=\"1\" class=\"dataframe\">\n",
       "  <thead>\n",
       "    <tr style=\"text-align: right;\">\n",
       "      <th></th>\n",
       "      <th>tractID</th>\n",
       "      <th>geometry</th>\n",
       "    </tr>\n",
       "  </thead>\n",
       "  <tbody>\n",
       "    <tr>\n",
       "      <th>0</th>\n",
       "      <td>17031010300</td>\n",
       "      <td>POLYGON ((-87.67133 42.01937, -87.67121 42.019...</td>\n",
       "    </tr>\n",
       "    <tr>\n",
       "      <th>1</th>\n",
       "      <td>17031010400</td>\n",
       "      <td>POLYGON ((-87.66345 42.01283, -87.66321 42.012...</td>\n",
       "    </tr>\n",
       "    <tr>\n",
       "      <th>2</th>\n",
       "      <td>17031010600</td>\n",
       "      <td>POLYGON ((-87.67059 42.00537, -87.67046 42.005...</td>\n",
       "    </tr>\n",
       "    <tr>\n",
       "      <th>3</th>\n",
       "      <td>17031020100</td>\n",
       "      <td>POLYGON ((-87.69024 42.01265, -87.69024 42.012...</td>\n",
       "    </tr>\n",
       "    <tr>\n",
       "      <th>4</th>\n",
       "      <td>17031280800</td>\n",
       "      <td>POLYGON ((-87.69151 41.88111, -87.69147 41.881...</td>\n",
       "    </tr>\n",
       "    <tr>\n",
       "      <th>...</th>\n",
       "      <td>...</td>\n",
       "      <td>...</td>\n",
       "    </tr>\n",
       "    <tr>\n",
       "      <th>1313</th>\n",
       "      <td>17031823901</td>\n",
       "      <td>POLYGON ((-87.85680 41.67987, -87.85676 41.680...</td>\n",
       "    </tr>\n",
       "    <tr>\n",
       "      <th>1314</th>\n",
       "      <td>17031826800</td>\n",
       "      <td>POLYGON ((-87.67975 41.64819, -87.67910 41.648...</td>\n",
       "    </tr>\n",
       "    <tr>\n",
       "      <th>1315</th>\n",
       "      <td>17031710300</td>\n",
       "      <td>POLYGON ((-87.66361 41.75768, -87.66330 41.757...</td>\n",
       "    </tr>\n",
       "    <tr>\n",
       "      <th>1316</th>\n",
       "      <td>17031828506</td>\n",
       "      <td>POLYGON ((-87.55864 41.54282, -87.55850 41.542...</td>\n",
       "    </tr>\n",
       "    <tr>\n",
       "      <th>1317</th>\n",
       "      <td>17031825600</td>\n",
       "      <td>POLYGON ((-87.72777 41.58756, -87.72765 41.587...</td>\n",
       "    </tr>\n",
       "  </tbody>\n",
       "</table>\n",
       "<p>1318 rows × 2 columns</p>\n",
       "</div>"
      ],
      "text/plain": [
       "          tractID                                           geometry\n",
       "0     17031010300  POLYGON ((-87.67133 42.01937, -87.67121 42.019...\n",
       "1     17031010400  POLYGON ((-87.66345 42.01283, -87.66321 42.012...\n",
       "2     17031010600  POLYGON ((-87.67059 42.00537, -87.67046 42.005...\n",
       "3     17031020100  POLYGON ((-87.69024 42.01265, -87.69024 42.012...\n",
       "4     17031280800  POLYGON ((-87.69151 41.88111, -87.69147 41.881...\n",
       "...           ...                                                ...\n",
       "1313  17031823901  POLYGON ((-87.85680 41.67987, -87.85676 41.680...\n",
       "1314  17031826800  POLYGON ((-87.67975 41.64819, -87.67910 41.648...\n",
       "1315  17031710300  POLYGON ((-87.66361 41.75768, -87.66330 41.757...\n",
       "1316  17031828506  POLYGON ((-87.55864 41.54282, -87.55850 41.542...\n",
       "1317  17031825600  POLYGON ((-87.72777 41.58756, -87.72765 41.587...\n",
       "\n",
       "[1318 rows x 2 columns]"
      ]
     },
     "execution_count": 36,
     "metadata": {},
     "output_type": "execute_result"
    }
   ],
   "source": [
    "shapefile = gpd.read_file(\"shp/Cook_County_Tract.shp\")\n",
    "shapefile = shapefile.rename(columns={'GEOID10': 'tractID'})\n",
    "shapefile"
   ]
  },
  {
   "cell_type": "markdown",
   "metadata": {},
   "source": [
    "### 1. Adaptive Choropleth Mapper"
   ]
  },
  {
   "cell_type": "code",
   "execution_count": 28,
   "metadata": {
    "scrolled": true
   },
   "outputs": [
    {
     "name": "stdout",
     "output_type": "stream",
     "text": [
      "To see your visualization, click the URL below (or locate the files):\n",
      "/Geovisualization/MapLinksPlot/PYTHON_Quantitative_Data_VIZ/ACM_Chicago_ACM/index.html\n",
      "Advanced options are available in \n",
      "/Geovisualization/MapLinksPlot/PYTHON_Quantitative_Data_VIZ/ACM_Chicago_ACM/data/CONFIG_Chicago_ACM.js\n"
     ]
    }
   ],
   "source": [
    "param = {\n",
    "        'title': \"Adaptive Choropleth Mapper\",\n",
    "        'filename_suffix': \"Chicago_ACM\",\n",
    "        'inputCSV': input_attributes,   \n",
    "        'shapefile': shapefile,\n",
    "        'years': [2018],\n",
    "        'NumOfMaps': 15,\n",
    "        'label': \"short_name\", #Pick variable,short_name,full_name from template/conversion_table_codebook.csv         \n",
    "        'variables': [         #enter variable names of the column you selected above.\n",
    "            \"% White\",\n",
    "            \"% Black\",\n",
    "            \"% Asian\",\n",
    "            \"% Hispanic\",\n",
    "            \"% Owner occupied housing\",\n",
    "            \"% Foreign born\",\n",
    "            \"% Bachelor's degree\",\n",
    "            \"% Graduate or professional degree\",\n",
    "            \"% High school graduate or higher\",\n",
    "            \"% Service occupations\",\n",
    "            \"% Manufacturing\",\n",
    "            \"% Management, business, science, and arts occupations\",\n",
    "            \"% Natural resources, construction, and maintenance occupations\",\n",
    "            \"% Production, transportation, and material moving occupations\",\n",
    "            \"% Poverty\",\n",
    "        ],\n",
    "        'chart': \"Stacked Chart\",  #Comment out if you do not want to visualize this chart      \n",
    "    }  \n",
    "Adaptive_Choropleth_Mapper_viz(param)"
   ]
  },
  {
   "cell_type": "markdown",
   "metadata": {},
   "source": [
    "### 2. Adaptive Choropleth Mapper with Correlogram"
   ]
  },
  {
   "cell_type": "code",
   "execution_count": 5,
   "metadata": {},
   "outputs": [
    {
     "name": "stdout",
     "output_type": "stream",
     "text": [
      "To see your visualization, click the URL below (or locate the files):\n",
      "F:\\Github\\MapLinksPlot\\PYTHON_Quantitative_Data_VIZ\\ACM_Chicago_ACM_Correlogram\\index.html\n",
      "Advanced options are available in \n",
      "F:\\Github\\MapLinksPlot\\PYTHON_Quantitative_Data_VIZ/ACM_Chicago_ACM_Correlogram/data/CONFIG_Chicago_ACM_Correlogram.js\n"
     ]
    }
   ],
   "source": [
    "param = {\n",
    "        'title': \"Adaptive Choropleth Mapper with Correlogram\",\n",
    "        'filename_suffix': \"Chicago_ACM_Correlogram\",\n",
    "        'inputCSV': input_attributes,   \n",
    "        'shapefile': shapefile,\n",
    "        'period': 2010,\n",
    "        'NumOfMaps': 4,    \n",
    "        'label': \"short_name\", #Pick variable,short_name,full_name from template/conversion_table_codebook.csv         \n",
    "        'variables': [         #enter variable names of the column you selected above.\n",
    "            \"p_nonhisp_white_persons\",\n",
    "            \"p_nonhisp_black_persons\",\n",
    "            \"p_hispanic_persons\",\n",
    "            \"p_asian_persons\",          \n",
    "            \"p_other_language\",\n",
    "            \"p_female_headed_families\",\n",
    "            \"median_income_blackhh\",\n",
    "            \"median_income_hispanichh\",\n",
    "            \"median_income_asianhh\",\n",
    "            \"per_capita_income\",     \n",
    "        ],\n",
    "        'chart': \"Correlogram\",        \n",
    "    }  \n",
    "Adaptive_Choropleth_Mapper_viz(param)"
   ]
  },
  {
   "cell_type": "markdown",
   "metadata": {},
   "source": [
    "### 3. Adaptive Choropleth Mapper with Scatter Plot"
   ]
  },
  {
   "cell_type": "code",
   "execution_count": 37,
   "metadata": {},
   "outputs": [
    {
     "name": "stdout",
     "output_type": "stream",
     "text": [
      "To see your visualization, click the URL below (or locate the files):\n",
      "/Geovisualization/MapLinksPlot/PYTHON_Quantitative_Data_VIZ/ACM_Scatter/index.html\n",
      "Advanced options are available in \n",
      "/Geovisualization/MapLinksPlot/PYTHON_Quantitative_Data_VIZ/ACM_Scatter/data/CONFIG_Scatter.js\n"
     ]
    }
   ],
   "source": [
    "param = {\n",
    "        'title': \"Adaptive Choropleth Mapper with Scatter Plot\",\n",
    "        'filename_suffix': \"Scatter\",\n",
    "        'inputCSV': input_attributes,   \n",
    "        'shapefile': shapefile, \n",
    "        'year': 2018,\n",
    "        'label': \"short_name\", #Pick variable,short_name,full_name from template/conversion_table_codebook.csv         \n",
    "        'variables': [         #enter variable names of the column you selected above.\n",
    "            \"% White\",\n",
    "            \"% Black\",\n",
    "            \"% Asian\",\n",
    "            \"% Hispanic\",\n",
    "            \"% Owner occupied housing\",\n",
    "            \"% Foreign born\",\n",
    "            \"% Bachelor's degree\",\n",
    "            \"% Graduate or professional degree\",\n",
    "            \"% High school graduate or higher\",\n",
    "            \"% Service occupations\",\n",
    "            \"% Manufacturing\",\n",
    "            \"% Management, business, science, and arts occupations\",\n",
    "            \"% Natural resources, construction, and maintenance occupations\",\n",
    "            \"% Production, transportation, and material moving occupations\",\n",
    "            \"% Poverty\",    \n",
    "        ],\n",
    "        'chart': \"Scatter Plot\",       \n",
    "    }  \n",
    "Adaptive_Choropleth_Mapper_viz(param)\n"
   ]
  },
  {
   "cell_type": "markdown",
   "metadata": {},
   "source": [
    "### 4. Adaptive Choropleth Mapper with Parallel Coordinate Plot"
   ]
  },
  {
   "cell_type": "code",
   "execution_count": 31,
   "metadata": {},
   "outputs": [
    {
     "name": "stdout",
     "output_type": "stream",
     "text": [
      "To see your visualization, click the URL below (or locate the files):\n",
      "/Geovisualization/MapLinksPlot/PYTHON_Quantitative_Data_VIZ/ACM_PCP/index.html\n",
      "Advanced options are available in \n",
      "/Geovisualization/MapLinksPlot/PYTHON_Quantitative_Data_VIZ/ACM_PCP/data/CONFIG_PCP.js\n"
     ]
    }
   ],
   "source": [
    "param = {\n",
    "        'title': \"Adaptive Choropleth Mapper: Parallel Coordinate Plot\",\n",
    "        'filename_suffix': \"PCP\",\n",
    "        'inputCSV': input_attributes,   \n",
    "        'shapefile': shapefile,\n",
    "        'period': 2018,\n",
    "        'NumOfMaps': 6,     \n",
    "        'label': \"short_name\", #Pick variable,short_name,full_name from template/conversion_table_codebook.csv         \n",
    "        'variables': [         #enter variable names of the column you selected above.\n",
    "            \"% White\",\n",
    "            \"% Black\",\n",
    "            \"% Asian\",\n",
    "            \"% Hispanic\",\n",
    "            \"% Owner occupied housing\",\n",
    "            \"% Foreign born\",\n",
    "            \"% Bachelor's degree\",\n",
    "            \"% Graduate or professional degree\",\n",
    "            \"% High school graduate or higher\",\n",
    "            \"% Service occupations\",\n",
    "            \"% Manufacturing\",\n",
    "            \"% Management, business, science, and arts occupations\",\n",
    "            \"% Natural resources, construction, and maintenance occupations\",\n",
    "            \"% Production, transportation, and material moving occupations\",\n",
    "            \"% Poverty\",            \n",
    "        ],\n",
    "        'chart': \"Parallel Coordinates Plot\",\n",
    "}\n",
    "Adaptive_Choropleth_Mapper_viz(param)"
   ]
  },
  {
   "cell_type": "markdown",
   "metadata": {},
   "source": [
    "### 5. Adaptive Choropleth Mapper with Time Series"
   ]
  },
  {
   "cell_type": "code",
   "execution_count": 8,
   "metadata": {},
   "outputs": [
    {
     "name": "stdout",
     "output_type": "stream",
     "text": [
      "To see your visualization, click the URL below (or locate the files):\n",
      "F:\\Github\\MapLinksPlot\\PYTHON_Quantitative_Data_VIZ\\ACM_Chicago_ACM_Time_Series\\index.html\n",
      "Advanced options are available in \n",
      "F:\\Github\\MapLinksPlot\\PYTHON_Quantitative_Data_VIZ/ACM_Chicago_ACM_Time_Series/data/CONFIG_Chicago_ACM_Time_Series.js\n"
     ]
    }
   ],
   "source": [
    "param = {\n",
    "        'title': \"Adaptive Choropleth Mapper with Time Series\",\n",
    "        'filename_suffix': \"Chicago_ACM_Time_Series\",\n",
    "        'inputCSV': input_attributes,   \n",
    "        'shapefile': shapefile,\n",
    "        'periods': [1980, 1990, 2000, 2010],\n",
    "        'label': \"short_name\", #Pick variable,short_name,full_name from template/conversion_table_codebook.csv         \n",
    "        'variables': [         #enter variable names of the column you selected above.\n",
    "            \"p_nonhisp_white_persons\",\n",
    "        ],\n",
    "        'chart': \"Parallel Coordinates Plot\",        \n",
    "    }  \n",
    "Adaptive_Choropleth_Mapper_viz(param)"
   ]
  },
  {
   "cell_type": "markdown",
   "metadata": {},
   "source": [
    "## Linked Choropleth Map Visulaizations using ACM with built-in data"
   ]
  },
  {
   "cell_type": "markdown",
   "metadata": {},
   "source": [
    "### 1. Adaptive Choropleth Mapper"
   ]
  },
  {
   "cell_type": "code",
   "execution_count": 9,
   "metadata": {},
   "outputs": [
    {
     "name": "stderr",
     "output_type": "stream",
     "text": [
      "c:\\users\\suzie\\.conda\\envs\\geosnap\\lib\\site-packages\\pyproj\\crs\\crs.py:53: FutureWarning: '+init=<authority>:<code>' syntax is deprecated. '<authority>:<code>' is the preferred initialization method. When making the change, be mindful of axis order changes: https://pyproj4.github.io/pyproj/stable/gotchas.html#axis-order-changes-in-proj-6\n",
      "  return _prepare_from_string(\" \".join(pjargs))\n"
     ]
    },
    {
     "name": "stdout",
     "output_type": "stream",
     "text": [
      "To see your visualization, click the URL below (or locate the files):\n",
      "F:\\Github\\MapLinksPlot\\PYTHON_Quantitative_Data_VIZ\\ACM_Adaptive_Choropleth_Maps\\index.html\n",
      "Advanced options are available in \n",
      "F:\\Github\\MapLinksPlot\\PYTHON_Quantitative_Data_VIZ/ACM_Adaptive_Choropleth_Maps/data/CONFIG_Adaptive_Choropleth_Maps.js\n"
     ]
    }
   ],
   "source": [
    "param = {\n",
    "        'title': \"Adaptive Choropleth Mapper\",\n",
    "        'filename_suffix': \"Adaptive_Choropleth_Maps\",\n",
    "        'state_fips': None,    #fips code is avaiable for every US state at https://github.com/suhanmappingideas/geosnap-viz/blob/master/state_id.csv\n",
    "        'msa_fips': \"16980\",   #For more options: http://su-gis.iptime.org/LNE/pick_POI.html\n",
    "        'county_fips': None,   #county code \n",
    "        'years': [1980, 1990, 2000, 2010], #Available years: 1970, 1980, 1990, 2000, 2010\n",
    "        'label': \"short_name\", #Pick variable,short_name,full_name from template/conversion_table_codebook.csv         \n",
    "        'variables': [         #enter variable names of the column you selected above.\n",
    "            \"p_nonhisp_white_persons\",\n",
    "            \"p_nonhisp_black_persons\",\n",
    "            \"p_hispanic_persons\",\n",
    "            \"p_asian_persons\",\n",
    "            \"p_foreign_born_pop\",\n",
    "            \"p_edu_college_greater\",\n",
    "            \"p_unemployment_rate\",\n",
    "            \"p_employed_manufacturing\",\n",
    "            \"p_poverty_rate\",\n",
    "            \"p_vacant_housing_units\",\n",
    "            \"p_owner_occupied_units\",\n",
    "            \"p_housing_units_multiunit_structures\",\n",
    "            \"median_home_value\",\n",
    "            \"p_structures_30_old\",\n",
    "            \"p_household_recent_move\",\n",
    "            \"p_persons_under_18\",\n",
    "            \"p_persons_over_60\",            \n",
    "        ],\n",
    "         'chart': \"Stacked Chart\",  #Comment out if you do not want to visualize this chart     \n",
    "}\n",
    "Adaptive_Choropleth_Mapper_viz(param)"
   ]
  },
  {
   "cell_type": "markdown",
   "metadata": {},
   "source": [
    "### 2. Adaptive Choropleth Mapper with Correlogram"
   ]
  },
  {
   "cell_type": "code",
   "execution_count": 10,
   "metadata": {},
   "outputs": [
    {
     "name": "stderr",
     "output_type": "stream",
     "text": [
      "c:\\users\\suzie\\.conda\\envs\\geosnap\\lib\\site-packages\\pyproj\\crs\\crs.py:53: FutureWarning: '+init=<authority>:<code>' syntax is deprecated. '<authority>:<code>' is the preferred initialization method. When making the change, be mindful of axis order changes: https://pyproj4.github.io/pyproj/stable/gotchas.html#axis-order-changes-in-proj-6\n",
      "  return _prepare_from_string(\" \".join(pjargs))\n"
     ]
    },
    {
     "name": "stdout",
     "output_type": "stream",
     "text": [
      "To see your visualization, click the URL below (or locate the files):\n",
      "F:\\Github\\MapLinksPlot\\PYTHON_Quantitative_Data_VIZ\\ACM_Adaptive_Choropleth_Maps_correlogram\\index.html\n",
      "Advanced options are available in \n",
      "F:\\Github\\MapLinksPlot\\PYTHON_Quantitative_Data_VIZ/ACM_Adaptive_Choropleth_Maps_correlogram/data/CONFIG_Adaptive_Choropleth_Maps_correlogram.js\n"
     ]
    }
   ],
   "source": [
    "param = {\n",
    "        'title': \"Adaptive Choropleth Mapper with Correlogram\",\n",
    "        'filename_suffix': \"Adaptive_Choropleth_Maps_correlogram\",\n",
    "        'state_fips': None,    #fips code is avaiable for every US state at https://github.com/suhanmappingideas/geosnap-viz/blob/master/state_id.csv\n",
    "        'msa_fips': \"16980\",   #For more options: http://su-gis.iptime.org/LNE/pick_POI.html\n",
    "        'county_fips': None,   #county code \n",
    "        'year': 2010, #Available years: 1970, 1980, 1990, 2000, 2010\n",
    "        'NumOfMaps': 4,\n",
    "        'label': \"short_name\", #Pick variable,short_name,full_name from template/conversion_table_codebook.csv         \n",
    "        'variables': [         #enter variable names of the column you selected above.\n",
    "            \"p_nonhisp_white_persons\",\n",
    "            \"p_nonhisp_black_persons\",\n",
    "            \"p_hispanic_persons\",\n",
    "            \"p_asian_persons\",\n",
    "            \"p_foreign_born_pop\",\n",
    "            \"p_edu_college_greater\",\n",
    "            \"p_unemployment_rate\",\n",
    "            \"p_employed_manufacturing\",\n",
    "            \"p_poverty_rate\",\n",
    "            \"p_vacant_housing_units\",\n",
    "            \"p_owner_occupied_units\",\n",
    "            \"p_housing_units_multiunit_structures\",\n",
    "            \"median_home_value\",\n",
    "            \"p_structures_30_old\",\n",
    "            \"p_household_recent_move\",\n",
    "            \"p_persons_under_18\",\n",
    "            \"p_persons_over_60\",    \n",
    "        ],\n",
    "        'chart': \"Correlogram\",\n",
    "}\n",
    "Adaptive_Choropleth_Mapper_viz(param)"
   ]
  },
  {
   "cell_type": "markdown",
   "metadata": {},
   "source": [
    "### 3. Adaptive Choropleth Mapper with Scatter Plot"
   ]
  },
  {
   "cell_type": "code",
   "execution_count": 11,
   "metadata": {},
   "outputs": [
    {
     "name": "stderr",
     "output_type": "stream",
     "text": [
      "c:\\users\\suzie\\.conda\\envs\\geosnap\\lib\\site-packages\\pyproj\\crs\\crs.py:53: FutureWarning: '+init=<authority>:<code>' syntax is deprecated. '<authority>:<code>' is the preferred initialization method. When making the change, be mindful of axis order changes: https://pyproj4.github.io/pyproj/stable/gotchas.html#axis-order-changes-in-proj-6\n",
      "  return _prepare_from_string(\" \".join(pjargs))\n"
     ]
    },
    {
     "name": "stdout",
     "output_type": "stream",
     "text": [
      "To see your visualization, click the URL below (or locate the files):\n",
      "F:\\Github\\MapLinksPlot\\PYTHON_Quantitative_Data_VIZ\\ACM_Adaptive_Choropleth_Maps_Scatter\\index.html\n",
      "Advanced options are available in \n",
      "F:\\Github\\MapLinksPlot\\PYTHON_Quantitative_Data_VIZ/ACM_Adaptive_Choropleth_Maps_Scatter/data/CONFIG_Adaptive_Choropleth_Maps_Scatter.js\n"
     ]
    }
   ],
   "source": [
    "param = {\n",
    "        'title': \"Adaptive Choropleth Mapper: Scatter Plot with Correlation\",\n",
    "        'filename_suffix': \"Adaptive_Choropleth_Maps_Scatter\",\n",
    "        'state_fips': None,    #fips code is avaiable for every US state at https://github.com/suhanmappingideas/geosnap-viz/blob/master/state_id.csv\n",
    "        'msa_fips': \"16980\",   #For more options: http://su-gis.iptime.org/LNE/pick_POI.html\n",
    "        'county_fips': None,   #county code \n",
    "        'year': 2000, #Available years: 1970, 1980, 1990, 2000, 2010\n",
    "        'variables': [\n",
    "            \"p_nonhisp_white_persons\",\n",
    "            \"p_nonhisp_black_persons\",\n",
    "            \"p_hispanic_persons\",\n",
    "            \"p_native_persons\",\n",
    "            \"p_asian_persons\",\n",
    "            \"p_hawaiian_persons\",\n",
    "            \"p_asian_indian_persons\",\n",
    "            \"p_chinese_persons\",\n",
    "            \"p_filipino_persons\",\n",
    "            \"p_japanese_persons\",\n",
    "            \"p_korean_persons\",\n",
    "            \"p_vietnamese_persons\",\n",
    "            \"median_household_income\",\n",
    "            \"median_income_whitehh\",\n",
    "            \"median_income_blackhh\",\n",
    "            \"median_income_hispanichh\",\n",
    "            \"median_income_asianhh\",\n",
    "            \"per_capita_income\",\n",
    "        ],\n",
    "        'chart': \"Scatter Plot\",\n",
    "        'label': \"short_name\",                                       # variable, short_name or full_name\n",
    "}\n",
    "Adaptive_Choropleth_Mapper_viz(param)"
   ]
  },
  {
   "cell_type": "markdown",
   "metadata": {},
   "source": [
    "### 4. Adaptive Choropleth Mapper with Parallel Coordinate Plot"
   ]
  },
  {
   "cell_type": "code",
   "execution_count": 14,
   "metadata": {},
   "outputs": [
    {
     "name": "stderr",
     "output_type": "stream",
     "text": [
      "c:\\users\\suzie\\.conda\\envs\\geosnap\\lib\\site-packages\\pyproj\\crs\\crs.py:53: FutureWarning: '+init=<authority>:<code>' syntax is deprecated. '<authority>:<code>' is the preferred initialization method. When making the change, be mindful of axis order changes: https://pyproj4.github.io/pyproj/stable/gotchas.html#axis-order-changes-in-proj-6\n",
      "  return _prepare_from_string(\" \".join(pjargs))\n"
     ]
    },
    {
     "name": "stdout",
     "output_type": "stream",
     "text": [
      "To see your visualization, click the URL below (or locate the files):\n",
      "F:\\Github\\MapLinksPlot\\PYTHON_Quantitative_Data_VIZ\\ACM_Adaptive_Choropleth_Maps_Parallel_Coordinate_Plot\\index.html\n",
      "Advanced options are available in \n",
      "F:\\Github\\MapLinksPlot\\PYTHON_Quantitative_Data_VIZ/ACM_Adaptive_Choropleth_Maps_Parallel_Coordinate_Plot/data/CONFIG_Adaptive_Choropleth_Maps_Parallel_Coordinate_Plot.js\n"
     ]
    }
   ],
   "source": [
    "param = {\n",
    "        'title': \"Adaptive Choropleth Mapper with PCP\",\n",
    "        'filename_suffix': \"Adaptive_Choropleth_Maps_Parallel_Coordinate_Plot\",\n",
    "        'state_fips': None,    #fips code is avaiable for every US state at https://github.com/suhanmappingideas/geosnap-viz/blob/master/state_id.csv\n",
    "        'msa_fips': \"16980\",   #For more options: http://su-gis.iptime.org/LNE/pick_POI.html\n",
    "        'county_fips': None,   #county code \n",
    "        'year': 2000, #Available years: 1970, 1980, 1990, 2000, 2010\n",
    "        'NumOfMaps': 6,\n",
    "        'label': \"short_name\", #Pick variable,short_name,full_name from template/conversion_table_codebook.csv         \n",
    "        'variables': [         #enter variable names of the column you selected above.\n",
    "            \"p_nonhisp_white_persons\",\n",
    "            \"p_nonhisp_black_persons\",\n",
    "            \"p_hispanic_persons\",\n",
    "            \"p_asian_persons\",           \n",
    "            \"p_persons_over_60\",\n",
    "            \"p_foreign_born_pop\",\n",
    "            \"p_edu_college_greater\",\n",
    "            \"p_poverty_rate\",              \n",
    "            \"p_unemployment_rate\",\n",
    "            \"p_employed_manufacturing\",\n",
    "            \"p_persons_under_18\",\n",
    "            \"p_vacant_housing_units\",\n",
    "            \"p_owner_occupied_units\",\n",
    "            \"p_housing_units_multiunit_structures\",\n",
    "            \"median_home_value\",\n",
    "            \"p_structures_30_old\",\n",
    "            \"p_household_recent_move\",\n",
    " \n",
    "        ],\n",
    "        'chart': \"Parallel Coordinates Plot\",\n",
    "\n",
    "}\n",
    "Adaptive_Choropleth_Mapper_viz(param)"
   ]
  },
  {
   "cell_type": "markdown",
   "metadata": {},
   "source": [
    "### 5. Adaptive Choropleth Mapper with Time Series"
   ]
  },
  {
   "cell_type": "code",
   "execution_count": 13,
   "metadata": {},
   "outputs": [
    {
     "name": "stderr",
     "output_type": "stream",
     "text": [
      "c:\\users\\suzie\\.conda\\envs\\geosnap\\lib\\site-packages\\pyproj\\crs\\crs.py:53: FutureWarning: '+init=<authority>:<code>' syntax is deprecated. '<authority>:<code>' is the preferred initialization method. When making the change, be mindful of axis order changes: https://pyproj4.github.io/pyproj/stable/gotchas.html#axis-order-changes-in-proj-6\n",
      "  return _prepare_from_string(\" \".join(pjargs))\n"
     ]
    },
    {
     "name": "stdout",
     "output_type": "stream",
     "text": [
      "To see your visualization, click the URL below (or locate the files):\n",
      "F:\\Github\\MapLinksPlot\\PYTHON_Quantitative_Data_VIZ\\ACM_Adaptive_Choropleth_Maps_Time_Series\\index.html\n",
      "Advanced options are available in \n",
      "F:\\Github\\MapLinksPlot\\PYTHON_Quantitative_Data_VIZ/ACM_Adaptive_Choropleth_Maps_Time_Series/data/CONFIG_Adaptive_Choropleth_Maps_Time_Series.js\n"
     ]
    }
   ],
   "source": [
    "param = {\n",
    "        'title': \"Adaptive Choropleth Mapper: Time Series\",\n",
    "        'filename_suffix': \"Adaptive_Choropleth_Maps_Time_Series\",\n",
    "        'state_fips': None,    #fips code is avaiable for every US state at https://github.com/suhanmappingideas/geosnap-viz/blob/master/state_id.csv\n",
    "        'msa_fips': \"16980\",   #For more options: http://su-gis.iptime.org/LNE/pick_POI.html\n",
    "        'county_fips': None,   #county code \n",
    "        'years': [1980, 1990, 2000, 2010], #Available years: 1970, 1980, 1990, 2000, 2010\n",
    "        'NumOfMaps': 4,\n",
    "        'label': \"short_name\", #Pick variable,short_name,full_name from template/conversion_table_codebook.csv    \n",
    "        'variables': [\n",
    "            \"p_hispanic_persons\",        \n",
    "        ],    \n",
    "        'chart': \"Parallel Coordinates Plot\",\n",
    "}\n",
    "Adaptive_Choropleth_Mapper_viz(param)"
   ]
  },
  {
   "cell_type": "code",
   "execution_count": null,
   "metadata": {},
   "outputs": [],
   "source": []
  }
 ],
 "metadata": {
  "kernelspec": {
   "display_name": "Python 3",
   "language": "python",
   "name": "python3"
  },
  "language_info": {
   "codemirror_mode": {
    "name": "ipython",
    "version": 3
   },
   "file_extension": ".py",
   "mimetype": "text/x-python",
   "name": "python",
   "nbconvert_exporter": "python",
   "pygments_lexer": "ipython3",
   "version": "3.7.6"
  }
 },
 "nbformat": 4,
 "nbformat_minor": 4
}
